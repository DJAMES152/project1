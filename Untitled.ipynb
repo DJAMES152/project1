{
 "cells": [
  {
   "cell_type": "code",
   "execution_count": 90,
   "id": "60264ae9-0104-4af9-8b25-5b0d28be7234",
   "metadata": {
    "tags": []
   },
   "outputs": [],
   "source": [
    "%matplotlib notebook\n",
    "%matplotlib inline"
   ]
  },
  {
   "cell_type": "code",
   "execution_count": 91,
   "id": "c282dcac-875d-41e7-9f85-9e499b1ad07d",
   "metadata": {},
   "outputs": [
    {
     "ename": "ModuleNotFoundError",
     "evalue": "No module named 'api_keys'",
     "output_type": "error",
     "traceback": [
      "\u001b[0;31m---------------------------------------------------------------------------\u001b[0m",
      "\u001b[0;31mModuleNotFoundError\u001b[0m                       Traceback (most recent call last)",
      "\u001b[0;32m/var/folders/yv/lqp4cl9n5pv59lyt_3yc0ydh0000gn/T/ipykernel_12837/1637040077.py\u001b[0m in \u001b[0;36m<module>\u001b[0;34m\u001b[0m\n\u001b[1;32m     14\u001b[0m \u001b[0;34m\u001b[0m\u001b[0m\n\u001b[1;32m     15\u001b[0m \u001b[0;31m# Import API key\u001b[0m\u001b[0;34m\u001b[0m\u001b[0;34m\u001b[0m\u001b[0m\n\u001b[0;32m---> 16\u001b[0;31m \u001b[0;32mfrom\u001b[0m \u001b[0mapi_keys\u001b[0m \u001b[0;32mimport\u001b[0m \u001b[0mg_key\u001b[0m\u001b[0;34m\u001b[0m\u001b[0;34m\u001b[0m\u001b[0m\n\u001b[0m\u001b[1;32m     17\u001b[0m \u001b[0;34m\u001b[0m\u001b[0m\n\u001b[1;32m     18\u001b[0m \u001b[0;31m# Import API key\u001b[0m\u001b[0;34m\u001b[0m\u001b[0;34m\u001b[0m\u001b[0m\n",
      "\u001b[0;31mModuleNotFoundError\u001b[0m: No module named 'api_keys'"
     ]
    }
   ],
   "source": [
    "# Dependencies and Setup\n",
    "import matplotlib.pyplot as plt\n",
    "import pandas as pd\n",
    "import numpy as np\n",
    "import requests\n",
    "import time\n",
    "from datetime import date\n",
    "import scipy.stats as st\n",
    "from scipy.stats import linregress\n",
    "# Dependencies and Setup\n",
    "import matplotlib.pyplot as plt\n",
    "import gmaps\n",
    "import os\n",
    "\n",
    "# Import API key\n",
    "from api_keys import g_key\n",
    "\n",
    "# Import API key\n",
    "from api_keys import weather_api_key\n",
    "\n",
    "# Incorporated citipy to determine city based on latitude and longitude\n",
    "from citipy import citipy\n",
    "\n",
    "# Range of latitudes and longitudes\n",
    "lat_range = (-90, 90)\n",
    "lng_range = (-180, 180)\n"
   ]
  },
  {
   "cell_type": "code",
   "execution_count": 92,
   "id": "dca07f1c-137c-42f6-8c45-0726f607ee5f",
   "metadata": {},
   "outputs": [],
   "source": [
    "data_csv = \"Resources/Mixed_Beverage_Gross_Receipts.csv\""
   ]
  },
  {
   "cell_type": "code",
   "execution_count": 93,
   "id": "48c23f14-daa8-49eb-a6fa-78a5bf51fa25",
   "metadata": {},
   "outputs": [
    {
     "data": {
      "text/html": [
       "<div>\n",
       "<style scoped>\n",
       "    .dataframe tbody tr th:only-of-type {\n",
       "        vertical-align: middle;\n",
       "    }\n",
       "\n",
       "    .dataframe tbody tr th {\n",
       "        vertical-align: top;\n",
       "    }\n",
       "\n",
       "    .dataframe thead th {\n",
       "        text-align: right;\n",
       "    }\n",
       "</style>\n",
       "<table border=\"1\" class=\"dataframe\">\n",
       "  <thead>\n",
       "    <tr style=\"text-align: right;\">\n",
       "      <th></th>\n",
       "      <th>Taxpayer Number</th>\n",
       "      <th>Taxpayer Name</th>\n",
       "      <th>Taxpayer Address</th>\n",
       "      <th>Taxpayer City</th>\n",
       "      <th>Taxpayer State</th>\n",
       "      <th>Taxpayer Zip</th>\n",
       "      <th>Taxpayer County</th>\n",
       "      <th>Location Number</th>\n",
       "      <th>Location Name</th>\n",
       "      <th>Location Address</th>\n",
       "      <th>...</th>\n",
       "      <th>Location County</th>\n",
       "      <th>Inside/Outside City Limits</th>\n",
       "      <th>TABC Permit Number</th>\n",
       "      <th>Responsibility Begin Date</th>\n",
       "      <th>Responsibility End Date</th>\n",
       "      <th>Obligation End Date</th>\n",
       "      <th>Liquor Receipts</th>\n",
       "      <th>Wine Receipts</th>\n",
       "      <th>Beer Receipts</th>\n",
       "      <th>Total Receipts</th>\n",
       "    </tr>\n",
       "  </thead>\n",
       "  <tbody>\n",
       "    <tr>\n",
       "      <th>0</th>\n",
       "      <td>32047970895</td>\n",
       "      <td>HONDURAS MAYA CAFE &amp; BAR LLC</td>\n",
       "      <td>8011 HAZEN ST</td>\n",
       "      <td>HOUSTON</td>\n",
       "      <td>TX</td>\n",
       "      <td>77036.0</td>\n",
       "      <td>101</td>\n",
       "      <td>1</td>\n",
       "      <td>HONDURAS MAYA CAFE &amp; BAR LLC</td>\n",
       "      <td>5945 BELLAIRE BLVD STE B</td>\n",
       "      <td>...</td>\n",
       "      <td>101</td>\n",
       "      <td>Y</td>\n",
       "      <td>MB817033</td>\n",
       "      <td>8/16/2012</td>\n",
       "      <td>9/12/2019</td>\n",
       "      <td>7/31/2019</td>\n",
       "      <td>0</td>\n",
       "      <td>0</td>\n",
       "      <td>0</td>\n",
       "      <td>0</td>\n",
       "    </tr>\n",
       "    <tr>\n",
       "      <th>1</th>\n",
       "      <td>32068715245</td>\n",
       "      <td>HIGHER BAR LLC</td>\n",
       "      <td>400 LAS COLINAS BLVD E STE 1080</td>\n",
       "      <td>IRVING</td>\n",
       "      <td>TX</td>\n",
       "      <td>75039.0</td>\n",
       "      <td>57</td>\n",
       "      <td>1</td>\n",
       "      <td>THE CLOVER CLUB</td>\n",
       "      <td>2404 CEDAR SPRINGS RD STE 400</td>\n",
       "      <td>...</td>\n",
       "      <td>57</td>\n",
       "      <td>Y</td>\n",
       "      <td>MB1054288</td>\n",
       "      <td>5/16/2019</td>\n",
       "      <td>NaN</td>\n",
       "      <td>7/31/2020</td>\n",
       "      <td>0</td>\n",
       "      <td>0</td>\n",
       "      <td>0</td>\n",
       "      <td>0</td>\n",
       "    </tr>\n",
       "    <tr>\n",
       "      <th>2</th>\n",
       "      <td>32051085341</td>\n",
       "      <td>HORSERADISH MAYONNAISE, L.L.C.</td>\n",
       "      <td>6412 N MAIN ST STE C</td>\n",
       "      <td>HOUSTON</td>\n",
       "      <td>TX</td>\n",
       "      <td>77009.0</td>\n",
       "      <td>101</td>\n",
       "      <td>1</td>\n",
       "      <td>LEI LOW</td>\n",
       "      <td>6412 N MAIN ST STE C</td>\n",
       "      <td>...</td>\n",
       "      <td>101</td>\n",
       "      <td>Y</td>\n",
       "      <td>MB850404</td>\n",
       "      <td>8/30/2013</td>\n",
       "      <td>NaN</td>\n",
       "      <td>5/31/2020</td>\n",
       "      <td>21723</td>\n",
       "      <td>0</td>\n",
       "      <td>0</td>\n",
       "      <td>21723</td>\n",
       "    </tr>\n",
       "    <tr>\n",
       "      <th>3</th>\n",
       "      <td>32051875626</td>\n",
       "      <td>SHADY BON TEMPS INC.</td>\n",
       "      <td>1205 W 19TH ST</td>\n",
       "      <td>HOUSTON</td>\n",
       "      <td>TX</td>\n",
       "      <td>77008.0</td>\n",
       "      <td>101</td>\n",
       "      <td>1</td>\n",
       "      <td>SHADY BON TEMPS INC.</td>\n",
       "      <td>1206 W 20TH ST</td>\n",
       "      <td>...</td>\n",
       "      <td>101</td>\n",
       "      <td>Y</td>\n",
       "      <td>MB867616</td>\n",
       "      <td>3/26/2014</td>\n",
       "      <td>NaN</td>\n",
       "      <td>3/31/2018</td>\n",
       "      <td>28827</td>\n",
       "      <td>3181</td>\n",
       "      <td>101639</td>\n",
       "      <td>133647</td>\n",
       "    </tr>\n",
       "    <tr>\n",
       "      <th>4</th>\n",
       "      <td>32017671648</td>\n",
       "      <td>PERRY JOE MALOY</td>\n",
       "      <td>5826 CONLEY ST</td>\n",
       "      <td>HOUSTON</td>\n",
       "      <td>TX</td>\n",
       "      <td>77021.0</td>\n",
       "      <td>101</td>\n",
       "      <td>1</td>\n",
       "      <td>THE ORIGINAL SPEAK EASY</td>\n",
       "      <td>5826 CONLEY ST</td>\n",
       "      <td>...</td>\n",
       "      <td>101</td>\n",
       "      <td>Y</td>\n",
       "      <td>MB606476</td>\n",
       "      <td>8/19/2005</td>\n",
       "      <td>NaN</td>\n",
       "      <td>3/31/2018</td>\n",
       "      <td>3005</td>\n",
       "      <td>666</td>\n",
       "      <td>701</td>\n",
       "      <td>4372</td>\n",
       "    </tr>\n",
       "  </tbody>\n",
       "</table>\n",
       "<p>5 rows × 23 columns</p>\n",
       "</div>"
      ],
      "text/plain": [
       "   Taxpayer Number                   Taxpayer Name  \\\n",
       "0      32047970895    HONDURAS MAYA CAFE & BAR LLC   \n",
       "1      32068715245                  HIGHER BAR LLC   \n",
       "2      32051085341  HORSERADISH MAYONNAISE, L.L.C.   \n",
       "3      32051875626            SHADY BON TEMPS INC.   \n",
       "4      32017671648                 PERRY JOE MALOY   \n",
       "\n",
       "                  Taxpayer Address Taxpayer City Taxpayer State  Taxpayer Zip  \\\n",
       "0                    8011 HAZEN ST       HOUSTON             TX       77036.0   \n",
       "1  400 LAS COLINAS BLVD E STE 1080        IRVING             TX       75039.0   \n",
       "2             6412 N MAIN ST STE C       HOUSTON             TX       77009.0   \n",
       "3                   1205 W 19TH ST       HOUSTON             TX       77008.0   \n",
       "4                   5826 CONLEY ST       HOUSTON             TX       77021.0   \n",
       "\n",
       "   Taxpayer County  Location Number                 Location Name  \\\n",
       "0              101                1  HONDURAS MAYA CAFE & BAR LLC   \n",
       "1               57                1               THE CLOVER CLUB   \n",
       "2              101                1                       LEI LOW   \n",
       "3              101                1          SHADY BON TEMPS INC.   \n",
       "4              101                1       THE ORIGINAL SPEAK EASY   \n",
       "\n",
       "                Location Address  ... Location County  \\\n",
       "0       5945 BELLAIRE BLVD STE B  ...             101   \n",
       "1  2404 CEDAR SPRINGS RD STE 400  ...              57   \n",
       "2           6412 N MAIN ST STE C  ...             101   \n",
       "3                 1206 W 20TH ST  ...             101   \n",
       "4                 5826 CONLEY ST  ...             101   \n",
       "\n",
       "  Inside/Outside City Limits  TABC Permit Number  Responsibility Begin Date  \\\n",
       "0                          Y            MB817033                  8/16/2012   \n",
       "1                          Y           MB1054288                  5/16/2019   \n",
       "2                          Y            MB850404                  8/30/2013   \n",
       "3                          Y            MB867616                  3/26/2014   \n",
       "4                          Y            MB606476                  8/19/2005   \n",
       "\n",
       "  Responsibility End Date Obligation End Date Liquor Receipts Wine Receipts  \\\n",
       "0               9/12/2019           7/31/2019               0             0   \n",
       "1                     NaN           7/31/2020               0             0   \n",
       "2                     NaN           5/31/2020           21723             0   \n",
       "3                     NaN           3/31/2018           28827          3181   \n",
       "4                     NaN           3/31/2018            3005           666   \n",
       "\n",
       "  Beer Receipts  Total Receipts  \n",
       "0             0               0  \n",
       "1             0               0  \n",
       "2             0           21723  \n",
       "3        101639          133647  \n",
       "4           701            4372  \n",
       "\n",
       "[5 rows x 23 columns]"
      ]
     },
     "execution_count": 93,
     "metadata": {},
     "output_type": "execute_result"
    }
   ],
   "source": [
    "data_df = pd.read_csv(data_csv)\n",
    "data_df.head()"
   ]
  },
  {
   "cell_type": "code",
   "execution_count": 94,
   "id": "fda97498-9afe-453e-9a3b-55f7298e6737",
   "metadata": {},
   "outputs": [
    {
     "data": {
      "text/html": [
       "<div>\n",
       "<style scoped>\n",
       "    .dataframe tbody tr th:only-of-type {\n",
       "        vertical-align: middle;\n",
       "    }\n",
       "\n",
       "    .dataframe tbody tr th {\n",
       "        vertical-align: top;\n",
       "    }\n",
       "\n",
       "    .dataframe thead th {\n",
       "        text-align: right;\n",
       "    }\n",
       "</style>\n",
       "<table border=\"1\" class=\"dataframe\">\n",
       "  <thead>\n",
       "    <tr style=\"text-align: right;\">\n",
       "      <th></th>\n",
       "      <th>Location Name</th>\n",
       "      <th>Location Address</th>\n",
       "      <th>Location City</th>\n",
       "      <th>Location State</th>\n",
       "      <th>Location Zip</th>\n",
       "      <th>Liquor Receipts</th>\n",
       "      <th>Wine Receipts</th>\n",
       "      <th>Beer Receipts</th>\n",
       "      <th>Total Receipts</th>\n",
       "    </tr>\n",
       "  </thead>\n",
       "  <tbody>\n",
       "    <tr>\n",
       "      <th>0</th>\n",
       "      <td>HONDURAS MAYA CAFE &amp; BAR LLC</td>\n",
       "      <td>5945 BELLAIRE BLVD STE B</td>\n",
       "      <td>HOUSTON</td>\n",
       "      <td>TX</td>\n",
       "      <td>77081</td>\n",
       "      <td>0</td>\n",
       "      <td>0</td>\n",
       "      <td>0</td>\n",
       "      <td>0</td>\n",
       "    </tr>\n",
       "    <tr>\n",
       "      <th>1</th>\n",
       "      <td>THE CLOVER CLUB</td>\n",
       "      <td>2404 CEDAR SPRINGS RD STE 400</td>\n",
       "      <td>DALLAS</td>\n",
       "      <td>TX</td>\n",
       "      <td>75201</td>\n",
       "      <td>0</td>\n",
       "      <td>0</td>\n",
       "      <td>0</td>\n",
       "      <td>0</td>\n",
       "    </tr>\n",
       "    <tr>\n",
       "      <th>2</th>\n",
       "      <td>LEI LOW</td>\n",
       "      <td>6412 N MAIN ST STE C</td>\n",
       "      <td>HOUSTON</td>\n",
       "      <td>TX</td>\n",
       "      <td>77009</td>\n",
       "      <td>21723</td>\n",
       "      <td>0</td>\n",
       "      <td>0</td>\n",
       "      <td>21723</td>\n",
       "    </tr>\n",
       "    <tr>\n",
       "      <th>3</th>\n",
       "      <td>SHADY BON TEMPS INC.</td>\n",
       "      <td>1206 W 20TH ST</td>\n",
       "      <td>HOUSTON</td>\n",
       "      <td>TX</td>\n",
       "      <td>77008</td>\n",
       "      <td>28827</td>\n",
       "      <td>3181</td>\n",
       "      <td>101639</td>\n",
       "      <td>133647</td>\n",
       "    </tr>\n",
       "    <tr>\n",
       "      <th>4</th>\n",
       "      <td>THE ORIGINAL SPEAK EASY</td>\n",
       "      <td>5826 CONLEY ST</td>\n",
       "      <td>HOUSTON</td>\n",
       "      <td>TX</td>\n",
       "      <td>77021</td>\n",
       "      <td>3005</td>\n",
       "      <td>666</td>\n",
       "      <td>701</td>\n",
       "      <td>4372</td>\n",
       "    </tr>\n",
       "  </tbody>\n",
       "</table>\n",
       "</div>"
      ],
      "text/plain": [
       "                  Location Name               Location Address Location City  \\\n",
       "0  HONDURAS MAYA CAFE & BAR LLC       5945 BELLAIRE BLVD STE B       HOUSTON   \n",
       "1               THE CLOVER CLUB  2404 CEDAR SPRINGS RD STE 400        DALLAS   \n",
       "2                       LEI LOW           6412 N MAIN ST STE C       HOUSTON   \n",
       "3          SHADY BON TEMPS INC.                 1206 W 20TH ST       HOUSTON   \n",
       "4       THE ORIGINAL SPEAK EASY                 5826 CONLEY ST       HOUSTON   \n",
       "\n",
       "  Location State  Location Zip  Liquor Receipts  Wine Receipts  Beer Receipts  \\\n",
       "0             TX         77081                0              0              0   \n",
       "1             TX         75201                0              0              0   \n",
       "2             TX         77009            21723              0              0   \n",
       "3             TX         77008            28827           3181         101639   \n",
       "4             TX         77021             3005            666            701   \n",
       "\n",
       "   Total Receipts  \n",
       "0               0  \n",
       "1               0  \n",
       "2           21723  \n",
       "3          133647  \n",
       "4            4372  "
      ]
     },
     "execution_count": 94,
     "metadata": {},
     "output_type": "execute_result"
    }
   ],
   "source": [
    "clean_df = data_df[[\"Location Name\", \"Location Address\",\"Location City\",\"Location State\",\"Location Zip\", \"Liquor Receipts\",\n",
    "                           \"Wine Receipts\", \"Beer Receipts\", \"Total Receipts\"]]\n",
    "clean_df.head()"
   ]
  },
  {
   "cell_type": "code",
   "execution_count": 95,
   "id": "504abdc1",
   "metadata": {},
   "outputs": [
    {
     "name": "stdout",
     "output_type": "stream",
     "text": [
      "<class 'pandas.core.frame.DataFrame'>\n",
      "RangeIndex: 337612 entries, 0 to 337611\n",
      "Data columns (total 9 columns):\n",
      " #   Column            Non-Null Count   Dtype \n",
      "---  ------            --------------   ----- \n",
      " 0   Location Name     337612 non-null  object\n",
      " 1   Location Address  337612 non-null  object\n",
      " 2   Location City     337612 non-null  object\n",
      " 3   Location State    337612 non-null  object\n",
      " 4   Location Zip      337612 non-null  int64 \n",
      " 5   Liquor Receipts   337612 non-null  int64 \n",
      " 6   Wine Receipts     337612 non-null  int64 \n",
      " 7   Beer Receipts     337612 non-null  int64 \n",
      " 8   Total Receipts    337612 non-null  int64 \n",
      "dtypes: int64(5), object(4)\n",
      "memory usage: 23.2+ MB\n"
     ]
    }
   ],
   "source": [
    "clean_df.info()"
   ]
  },
  {
   "cell_type": "code",
   "execution_count": 96,
   "id": "e61bbf5b-e21f-48d3-a25d-04856da8a48e",
   "metadata": {},
   "outputs": [],
   "source": [
    "minreceipts = 5000"
   ]
  },
  {
   "cell_type": "code",
   "execution_count": 97,
   "id": "9b22fe1f-23ee-4f26-b1ae-f276c666fda4",
   "metadata": {},
   "outputs": [],
   "source": [
    "totaldf = clean_df.loc[clean_df[\"Total Receipts\"] > minreceipts]\n",
    "liquordf = clean_df.loc[clean_df[\"Liquor Receipts\"] > minreceipts]\n",
    "winedf = clean_df.loc[clean_df[\"Wine Receipts\"] > minreceipts]\n",
    "beerdf = clean_df.loc[clean_df[\"Beer Receipts\"] > minreceipts]"
   ]
  },
  {
   "cell_type": "code",
   "execution_count": 98,
   "id": "96f9b224-c03b-438f-ab79-911f1fc672b6",
   "metadata": {},
   "outputs": [],
   "source": [
    "totalcitymax = totaldf[\"Total Receipts\"].max()\n",
    "liquorcitymax = liquordf[\"Liquor Receipts\"].max()\n",
    "winecitymax = winedf[\"Wine Receipts\"].max()\n",
    "beercitymax = beerdf[\"Beer Receipts\"].max()\n",
    "totalcitymin = totaldf[\"Total Receipts\"].min()\n",
    "liquorcitymin = liquordf[\"Liquor Receipts\"].min()\n",
    "winecitymin = winedf[\"Wine Receipts\"].min()\n",
    "beercitymin = beerdf[\"Beer Receipts\"].min()"
   ]
  },
  {
   "cell_type": "code",
   "execution_count": 99,
   "id": "7578b78a-ec2e-4928-926f-c80622025b6f",
   "metadata": {},
   "outputs": [],
   "source": [
    "totalcitymaxs = clean_df.loc[clean_df[\"Total Receipts\"]==totalcitymax]\n",
    "liquorcitymaxs = clean_df.loc[clean_df[\"Liquor Receipts\"]==liquorcitymax]\n",
    "winecitymaxs = clean_df.loc[clean_df[\"Wine Receipts\"]==winecitymax]\n",
    "beercitymaxs = clean_df.loc[clean_df[\"Beer Receipts\"]==beercitymax]"
   ]
  },
  {
   "cell_type": "code",
   "execution_count": 100,
   "id": "36fd1faa-17c7-450c-aab4-46d3a951c795",
   "metadata": {},
   "outputs": [],
   "source": [
    "totalcitymins = clean_df.loc[clean_df[\"Total Receipts\"]==minreceipts]\n",
    "liquorcitymins = clean_df.loc[clean_df[\"Liquor Receipts\"]==liquorcitymin]\n",
    "winecitymins = clean_df.loc[clean_df[\"Wine Receipts\"]==winecitymin]\n",
    "beercitymins = clean_df.loc[clean_df[\"Beer Receipts\"]==beercitymin]"
   ]
  },
  {
   "cell_type": "code",
   "execution_count": 101,
   "id": "afc9b38a-457d-4199-9038-4ddb962ce9b0",
   "metadata": {},
   "outputs": [
    {
     "data": {
      "text/html": [
       "<div>\n",
       "<style scoped>\n",
       "    .dataframe tbody tr th:only-of-type {\n",
       "        vertical-align: middle;\n",
       "    }\n",
       "\n",
       "    .dataframe tbody tr th {\n",
       "        vertical-align: top;\n",
       "    }\n",
       "\n",
       "    .dataframe thead th {\n",
       "        text-align: right;\n",
       "    }\n",
       "</style>\n",
       "<table border=\"1\" class=\"dataframe\">\n",
       "  <thead>\n",
       "    <tr style=\"text-align: right;\">\n",
       "      <th></th>\n",
       "      <th>Location Name</th>\n",
       "      <th>Location Address</th>\n",
       "      <th>Location City</th>\n",
       "      <th>Location State</th>\n",
       "      <th>Location Zip</th>\n",
       "      <th>Liquor Receipts</th>\n",
       "      <th>Wine Receipts</th>\n",
       "      <th>Beer Receipts</th>\n",
       "      <th>Total Receipts</th>\n",
       "    </tr>\n",
       "  </thead>\n",
       "  <tbody>\n",
       "    <tr>\n",
       "      <th>0</th>\n",
       "      <td>HONDURAS MAYA CAFE &amp; BAR LLC</td>\n",
       "      <td>5945 BELLAIRE BLVD STE B</td>\n",
       "      <td>HOUSTON</td>\n",
       "      <td>TX</td>\n",
       "      <td>77081</td>\n",
       "      <td>0</td>\n",
       "      <td>0</td>\n",
       "      <td>0</td>\n",
       "      <td>0</td>\n",
       "    </tr>\n",
       "    <tr>\n",
       "      <th>1</th>\n",
       "      <td>THE CLOVER CLUB</td>\n",
       "      <td>2404 CEDAR SPRINGS RD STE 400</td>\n",
       "      <td>DALLAS</td>\n",
       "      <td>TX</td>\n",
       "      <td>75201</td>\n",
       "      <td>0</td>\n",
       "      <td>0</td>\n",
       "      <td>0</td>\n",
       "      <td>0</td>\n",
       "    </tr>\n",
       "    <tr>\n",
       "      <th>2</th>\n",
       "      <td>LEI LOW</td>\n",
       "      <td>6412 N MAIN ST STE C</td>\n",
       "      <td>HOUSTON</td>\n",
       "      <td>TX</td>\n",
       "      <td>77009</td>\n",
       "      <td>21723</td>\n",
       "      <td>0</td>\n",
       "      <td>0</td>\n",
       "      <td>21723</td>\n",
       "    </tr>\n",
       "    <tr>\n",
       "      <th>3</th>\n",
       "      <td>SHADY BON TEMPS INC.</td>\n",
       "      <td>1206 W 20TH ST</td>\n",
       "      <td>HOUSTON</td>\n",
       "      <td>TX</td>\n",
       "      <td>77008</td>\n",
       "      <td>28827</td>\n",
       "      <td>3181</td>\n",
       "      <td>101639</td>\n",
       "      <td>133647</td>\n",
       "    </tr>\n",
       "    <tr>\n",
       "      <th>4</th>\n",
       "      <td>THE ORIGINAL SPEAK EASY</td>\n",
       "      <td>5826 CONLEY ST</td>\n",
       "      <td>HOUSTON</td>\n",
       "      <td>TX</td>\n",
       "      <td>77021</td>\n",
       "      <td>3005</td>\n",
       "      <td>666</td>\n",
       "      <td>701</td>\n",
       "      <td>4372</td>\n",
       "    </tr>\n",
       "    <tr>\n",
       "      <th>5</th>\n",
       "      <td>PERMISSION WHISKEY &amp; SERVICE NO.</td>\n",
       "      <td>2920 WHITE OAK DR</td>\n",
       "      <td>HOUSTON</td>\n",
       "      <td>TX</td>\n",
       "      <td>77007</td>\n",
       "      <td>150485</td>\n",
       "      <td>8128</td>\n",
       "      <td>2458</td>\n",
       "      <td>161071</td>\n",
       "    </tr>\n",
       "    <tr>\n",
       "      <th>6</th>\n",
       "      <td>PETES DUELING PIANOS</td>\n",
       "      <td>4980 BELT LINE RD STE 200</td>\n",
       "      <td>DALLAS</td>\n",
       "      <td>TX</td>\n",
       "      <td>75254</td>\n",
       "      <td>88311</td>\n",
       "      <td>1768</td>\n",
       "      <td>27978</td>\n",
       "      <td>118057</td>\n",
       "    </tr>\n",
       "    <tr>\n",
       "      <th>7</th>\n",
       "      <td>PLUCKERS WING BAR</td>\n",
       "      <td>9229 RAIN LILY TRL</td>\n",
       "      <td>FORT WORTH</td>\n",
       "      <td>TX</td>\n",
       "      <td>76177</td>\n",
       "      <td>48006</td>\n",
       "      <td>323</td>\n",
       "      <td>63603</td>\n",
       "      <td>111932</td>\n",
       "    </tr>\n",
       "    <tr>\n",
       "      <th>9</th>\n",
       "      <td>AUSTIN CRAFT SPIRITS COMPANY, LLC</td>\n",
       "      <td>12010 W HIGHWAY 290 STE 160</td>\n",
       "      <td>AUSTIN</td>\n",
       "      <td>TX</td>\n",
       "      <td>78737</td>\n",
       "      <td>0</td>\n",
       "      <td>0</td>\n",
       "      <td>0</td>\n",
       "      <td>0</td>\n",
       "    </tr>\n",
       "    <tr>\n",
       "      <th>10</th>\n",
       "      <td>OZONA GRILL AND BAR</td>\n",
       "      <td>4615 GREENVILLE AVE</td>\n",
       "      <td>DALLAS</td>\n",
       "      <td>TX</td>\n",
       "      <td>75206</td>\n",
       "      <td>48470</td>\n",
       "      <td>7517</td>\n",
       "      <td>27483</td>\n",
       "      <td>83470</td>\n",
       "    </tr>\n",
       "    <tr>\n",
       "      <th>12</th>\n",
       "      <td>HOSPITALITY INTERNATIONAL, INC.</td>\n",
       "      <td>23808 RESORT PKWY</td>\n",
       "      <td>SAN ANTONIO</td>\n",
       "      <td>TX</td>\n",
       "      <td>78261</td>\n",
       "      <td>1134885</td>\n",
       "      <td>423679</td>\n",
       "      <td>328708</td>\n",
       "      <td>1887272</td>\n",
       "    </tr>\n",
       "    <tr>\n",
       "      <th>13</th>\n",
       "      <td>THE MITCHELL</td>\n",
       "      <td>1404 MAIN ST</td>\n",
       "      <td>DALLAS</td>\n",
       "      <td>TX</td>\n",
       "      <td>75202</td>\n",
       "      <td>14576</td>\n",
       "      <td>1086</td>\n",
       "      <td>576</td>\n",
       "      <td>16238</td>\n",
       "    </tr>\n",
       "    <tr>\n",
       "      <th>15</th>\n",
       "      <td>ONE TACO</td>\n",
       "      <td>500 CANYON RIDGE DR STE L400</td>\n",
       "      <td>AUSTIN</td>\n",
       "      <td>TX</td>\n",
       "      <td>78753</td>\n",
       "      <td>666</td>\n",
       "      <td>0</td>\n",
       "      <td>588</td>\n",
       "      <td>1254</td>\n",
       "    </tr>\n",
       "    <tr>\n",
       "      <th>16</th>\n",
       "      <td>OLD PECAN STREET CAFE</td>\n",
       "      <td>504 TRINITY ST UNIT B</td>\n",
       "      <td>AUSTIN</td>\n",
       "      <td>TX</td>\n",
       "      <td>78701</td>\n",
       "      <td>0</td>\n",
       "      <td>0</td>\n",
       "      <td>0</td>\n",
       "      <td>0</td>\n",
       "    </tr>\n",
       "    <tr>\n",
       "      <th>17</th>\n",
       "      <td>OFF - SITE KITCHEN</td>\n",
       "      <td>331 SINGLETON BLVD STE 100</td>\n",
       "      <td>DALLAS</td>\n",
       "      <td>TX</td>\n",
       "      <td>75212</td>\n",
       "      <td>0</td>\n",
       "      <td>0</td>\n",
       "      <td>0</td>\n",
       "      <td>0</td>\n",
       "    </tr>\n",
       "    <tr>\n",
       "      <th>18</th>\n",
       "      <td>HOSPITALITY INTERNATIONAL, INC.</td>\n",
       "      <td>23808 RESORT PKWY</td>\n",
       "      <td>SAN ANTONIO</td>\n",
       "      <td>TX</td>\n",
       "      <td>78261</td>\n",
       "      <td>574907</td>\n",
       "      <td>390911</td>\n",
       "      <td>280494</td>\n",
       "      <td>1246312</td>\n",
       "    </tr>\n",
       "    <tr>\n",
       "      <th>23</th>\n",
       "      <td>T &amp; P TAVERN</td>\n",
       "      <td>221 W LANCASTER AVE STE 1000</td>\n",
       "      <td>FORT WORTH</td>\n",
       "      <td>TX</td>\n",
       "      <td>76102</td>\n",
       "      <td>18207</td>\n",
       "      <td>2229</td>\n",
       "      <td>28934</td>\n",
       "      <td>49370</td>\n",
       "    </tr>\n",
       "    <tr>\n",
       "      <th>26</th>\n",
       "      <td>HOSPITALITY INTERNATIONAL, INC.</td>\n",
       "      <td>23808 RESORT PKWY</td>\n",
       "      <td>SAN ANTONIO</td>\n",
       "      <td>TX</td>\n",
       "      <td>78261</td>\n",
       "      <td>1081176</td>\n",
       "      <td>461109</td>\n",
       "      <td>344008</td>\n",
       "      <td>1886293</td>\n",
       "    </tr>\n",
       "    <tr>\n",
       "      <th>30</th>\n",
       "      <td>HOSPITALITY INTERNATIONAL, INC.</td>\n",
       "      <td>23808 RESORT PKWY</td>\n",
       "      <td>SAN ANTONIO</td>\n",
       "      <td>TX</td>\n",
       "      <td>78261</td>\n",
       "      <td>847028</td>\n",
       "      <td>484463</td>\n",
       "      <td>307621</td>\n",
       "      <td>1639112</td>\n",
       "    </tr>\n",
       "    <tr>\n",
       "      <th>32</th>\n",
       "      <td>EL BORREGO DE ORO #2</td>\n",
       "      <td>3900 S CONGRESS AVE</td>\n",
       "      <td>AUSTIN</td>\n",
       "      <td>TX</td>\n",
       "      <td>78704</td>\n",
       "      <td>3324</td>\n",
       "      <td>0</td>\n",
       "      <td>3719</td>\n",
       "      <td>7043</td>\n",
       "    </tr>\n",
       "    <tr>\n",
       "      <th>33</th>\n",
       "      <td>HOSPITALITY INTERNATIONAL, INC.</td>\n",
       "      <td>23808 RESORT PKWY</td>\n",
       "      <td>SAN ANTONIO</td>\n",
       "      <td>TX</td>\n",
       "      <td>78261</td>\n",
       "      <td>1007698</td>\n",
       "      <td>382862</td>\n",
       "      <td>364960</td>\n",
       "      <td>1755520</td>\n",
       "    </tr>\n",
       "    <tr>\n",
       "      <th>37</th>\n",
       "      <td>STAR BAR</td>\n",
       "      <td>600 W 6TH ST</td>\n",
       "      <td>AUSTIN</td>\n",
       "      <td>TX</td>\n",
       "      <td>78701</td>\n",
       "      <td>57536</td>\n",
       "      <td>1979</td>\n",
       "      <td>36461</td>\n",
       "      <td>95976</td>\n",
       "    </tr>\n",
       "    <tr>\n",
       "      <th>49</th>\n",
       "      <td>MESO MAYA</td>\n",
       "      <td>3050 S HULEN ST STE A</td>\n",
       "      <td>FORT WORTH</td>\n",
       "      <td>TX</td>\n",
       "      <td>76109</td>\n",
       "      <td>39875</td>\n",
       "      <td>6858</td>\n",
       "      <td>5681</td>\n",
       "      <td>52414</td>\n",
       "    </tr>\n",
       "    <tr>\n",
       "      <th>77</th>\n",
       "      <td>SOUTH FORT WORTH POST #569</td>\n",
       "      <td>400 W FELIX ST</td>\n",
       "      <td>FORT WORTH</td>\n",
       "      <td>TX</td>\n",
       "      <td>76115</td>\n",
       "      <td>2357</td>\n",
       "      <td>472</td>\n",
       "      <td>11730</td>\n",
       "      <td>14559</td>\n",
       "    </tr>\n",
       "    <tr>\n",
       "      <th>81</th>\n",
       "      <td>EAT@FLAVR</td>\n",
       "      <td>2251 N MAIN ST</td>\n",
       "      <td>FORT WORTH</td>\n",
       "      <td>TX</td>\n",
       "      <td>76164</td>\n",
       "      <td>0</td>\n",
       "      <td>0</td>\n",
       "      <td>0</td>\n",
       "      <td>0</td>\n",
       "    </tr>\n",
       "  </tbody>\n",
       "</table>\n",
       "</div>"
      ],
      "text/plain": [
       "                        Location Name               Location Address  \\\n",
       "0        HONDURAS MAYA CAFE & BAR LLC       5945 BELLAIRE BLVD STE B   \n",
       "1                     THE CLOVER CLUB  2404 CEDAR SPRINGS RD STE 400   \n",
       "2                             LEI LOW           6412 N MAIN ST STE C   \n",
       "3                SHADY BON TEMPS INC.                 1206 W 20TH ST   \n",
       "4             THE ORIGINAL SPEAK EASY                 5826 CONLEY ST   \n",
       "5    PERMISSION WHISKEY & SERVICE NO.              2920 WHITE OAK DR   \n",
       "6                PETES DUELING PIANOS      4980 BELT LINE RD STE 200   \n",
       "7                   PLUCKERS WING BAR             9229 RAIN LILY TRL   \n",
       "9   AUSTIN CRAFT SPIRITS COMPANY, LLC    12010 W HIGHWAY 290 STE 160   \n",
       "10                OZONA GRILL AND BAR            4615 GREENVILLE AVE   \n",
       "12    HOSPITALITY INTERNATIONAL, INC.              23808 RESORT PKWY   \n",
       "13                       THE MITCHELL                   1404 MAIN ST   \n",
       "15                           ONE TACO   500 CANYON RIDGE DR STE L400   \n",
       "16              OLD PECAN STREET CAFE          504 TRINITY ST UNIT B   \n",
       "17                 OFF - SITE KITCHEN     331 SINGLETON BLVD STE 100   \n",
       "18    HOSPITALITY INTERNATIONAL, INC.              23808 RESORT PKWY   \n",
       "23                       T & P TAVERN   221 W LANCASTER AVE STE 1000   \n",
       "26    HOSPITALITY INTERNATIONAL, INC.              23808 RESORT PKWY   \n",
       "30    HOSPITALITY INTERNATIONAL, INC.              23808 RESORT PKWY   \n",
       "32               EL BORREGO DE ORO #2            3900 S CONGRESS AVE   \n",
       "33    HOSPITALITY INTERNATIONAL, INC.              23808 RESORT PKWY   \n",
       "37                           STAR BAR                   600 W 6TH ST   \n",
       "49                          MESO MAYA          3050 S HULEN ST STE A   \n",
       "77         SOUTH FORT WORTH POST #569                 400 W FELIX ST   \n",
       "81                          EAT@FLAVR                 2251 N MAIN ST   \n",
       "\n",
       "   Location City Location State  Location Zip  Liquor Receipts  Wine Receipts  \\\n",
       "0        HOUSTON             TX         77081                0              0   \n",
       "1         DALLAS             TX         75201                0              0   \n",
       "2        HOUSTON             TX         77009            21723              0   \n",
       "3        HOUSTON             TX         77008            28827           3181   \n",
       "4        HOUSTON             TX         77021             3005            666   \n",
       "5        HOUSTON             TX         77007           150485           8128   \n",
       "6         DALLAS             TX         75254            88311           1768   \n",
       "7     FORT WORTH             TX         76177            48006            323   \n",
       "9         AUSTIN             TX         78737                0              0   \n",
       "10        DALLAS             TX         75206            48470           7517   \n",
       "12   SAN ANTONIO             TX         78261          1134885         423679   \n",
       "13        DALLAS             TX         75202            14576           1086   \n",
       "15        AUSTIN             TX         78753              666              0   \n",
       "16        AUSTIN             TX         78701                0              0   \n",
       "17        DALLAS             TX         75212                0              0   \n",
       "18   SAN ANTONIO             TX         78261           574907         390911   \n",
       "23    FORT WORTH             TX         76102            18207           2229   \n",
       "26   SAN ANTONIO             TX         78261          1081176         461109   \n",
       "30   SAN ANTONIO             TX         78261           847028         484463   \n",
       "32        AUSTIN             TX         78704             3324              0   \n",
       "33   SAN ANTONIO             TX         78261          1007698         382862   \n",
       "37        AUSTIN             TX         78701            57536           1979   \n",
       "49    FORT WORTH             TX         76109            39875           6858   \n",
       "77    FORT WORTH             TX         76115             2357            472   \n",
       "81    FORT WORTH             TX         76164                0              0   \n",
       "\n",
       "    Beer Receipts  Total Receipts  \n",
       "0               0               0  \n",
       "1               0               0  \n",
       "2               0           21723  \n",
       "3          101639          133647  \n",
       "4             701            4372  \n",
       "5            2458          161071  \n",
       "6           27978          118057  \n",
       "7           63603          111932  \n",
       "9               0               0  \n",
       "10          27483           83470  \n",
       "12         328708         1887272  \n",
       "13            576           16238  \n",
       "15            588            1254  \n",
       "16              0               0  \n",
       "17              0               0  \n",
       "18         280494         1246312  \n",
       "23          28934           49370  \n",
       "26         344008         1886293  \n",
       "30         307621         1639112  \n",
       "32           3719            7043  \n",
       "33         364960         1755520  \n",
       "37          36461           95976  \n",
       "49           5681           52414  \n",
       "77          11730           14559  \n",
       "81              0               0  "
      ]
     },
     "execution_count": 101,
     "metadata": {},
     "output_type": "execute_result"
    }
   ],
   "source": [
    "city_group = clean_df.groupby([\"Location City\"])\n",
    "city_group.head()"
   ]
  },
  {
   "cell_type": "code",
   "execution_count": 102,
   "id": "75412a11-f43e-45af-82ec-8bdffe517588",
   "metadata": {},
   "outputs": [
    {
     "data": {
      "text/plain": [
       "Location City\n",
       "AUSTIN         3211630304\n",
       "DALLAS         3504558083\n",
       "FORT WORTH     1165832611\n",
       "HOUSTON        4736746634\n",
       "SAN ANTONIO    2427557702\n",
       "Name: Total Receipts, dtype: int64"
      ]
     },
     "execution_count": 102,
     "metadata": {},
     "output_type": "execute_result"
    }
   ],
   "source": [
    "sumpercity = city_group[\"Total Receipts\"].sum()\n",
    "sumpercity"
   ]
  },
  {
   "cell_type": "code",
   "execution_count": 103,
   "id": "20717146-fed2-4c92-b20f-49f476b04805",
   "metadata": {},
   "outputs": [
    {
     "data": {
      "text/plain": [
       "<function matplotlib.pyplot.show(close=None, block=None)>"
      ]
     },
     "execution_count": 103,
     "metadata": {},
     "output_type": "execute_result"
    },
    {
     "data": {
      "image/png": "[encoded data removed]",
      "text/plain": [
       "<Figure size 1440x720 with 1 Axes>"
      ]
     },
     "metadata": {
      "needs_background": "light"
     },
     "output_type": "display_data"
    }
   ],
   "source": [
    "x = np.array([\"AUSTIN\",\"DALLAS\",\"FORT WORTH\",\"HOUSTON\",\"SAN ANTONIO\"])\n",
    "y = np.array([3211630304, 3504558083, 1165832611, 4736746634, 2427557702])\n",
    "\n",
    "totalsum_df = pd.DataFrame({\"CITY\":x, \"TOTAL SALES\":y})\n",
    "sorted = totalsum_df.sort_values(by=[\"TOTAL SALES\"], ascending=True)\n",
    "\n",
    "plt.title(\"TOTAL SALES BY CITY 2018-2022\", fontsize=30, pad=30, weight=\"bold\")\n",
    "plt.xlabel(\"SALES IN BILLIONS\",fontsize=25, weight=\"bold\")\n",
    "plt.ylabel(\"CITIES\",fontsize=25, weight=\"bold\")\n",
    "plt.barh(sorted.CITY, sorted[\"TOTAL SALES\"], height = 0.8, color=\"lightblue\")\n",
    "plt.xticks(fontsize=20)\n",
    "plt.yticks(fontsize=20, rotation=\"25\")\n",
    "    \n",
    "for index, value in enumerate(sorted[\"TOTAL SALES\"]):\n",
    "    plt.text(value, index, f'${value:,}', fontsize=25, ha=\"right\", weight=\"bold\")\n",
    "    \n",
    "fig=plt.gcf()\n",
    "fig.set_size_inches(20,10)\n",
    "plt.savefig(\"salesbycitybar.png\")\n",
    "\n",
    "plt.show"
   ]
  },
  {
   "cell_type": "code",
   "execution_count": 104,
   "id": "0dcbac93-724e-47b4-a050-9d1e40981178",
   "metadata": {},
   "outputs": [
    {
     "data": {
      "image/png": "[encoded data removed]",
      "text/plain": [
       "<Figure size 576x576 with 1 Axes>"
      ]
     },
     "metadata": {},
     "output_type": "display_data"
    }
   ],
   "source": [
    "y=np.array([sumpercity])\n",
    "\n",
    "labels = (\"AUSTIN\", \"DALLAS\", \"FORT WORTH\",\"HOUSTON\", \"SAN ANTONIO\")\n",
    "explode = (0.05, 0.05, 0.05, 0.05, 0.05)\n",
    "\n",
    "plt.pie(sumpercity, autopct=\"%1.2f%%\", labels=labels, explode=explode, shadow=True, startangle=90, textprops={'fontsize':15})\n",
    "plt.title(\"TOTAL SALES BY CITY 2018-2022\",  loc=\"center\", weight=\"bold\", pad=\"25\", fontsize=25)\n",
    "plt.axis(\"equal\")\n",
    "    \n",
    "fig = plt.gcf()\n",
    "fig.set_size_inches(8,8)\n",
    "\n",
    "plt.savefig(\"salesbycitypie.png\")"
   ]
  },
  {
   "cell_type": "code",
   "execution_count": 105,
   "id": "23eb878e-d796-493f-b8ef-84d6e98f088e",
   "metadata": {},
   "outputs": [],
   "source": [
    "maxpercity = city_group[\"Total Receipts\"].max()"
   ]
  },
  {
   "cell_type": "code",
   "execution_count": 106,
   "id": "5323ecc9-2e58-4a04-9864-df8d1d69c7e3",
   "metadata": {},
   "outputs": [],
   "source": [
    "austintotalmax = clean_df.loc[clean_df[\"Total Receipts\"]==1961527]\n",
    "dallastotalmax = clean_df.loc[clean_df[\"Total Receipts\"]==1841877]\n",
    "fwtotalmax = clean_df.loc[clean_df[\"Total Receipts\"]==2213047]\n",
    "houstontotalmax = clean_df.loc[clean_df[\"Total Receipts\"]==5200356]\n",
    "satotalmax = clean_df.loc[clean_df[\"Total Receipts\"]==3894133]"
   ]
  },
  {
   "cell_type": "code",
   "execution_count": 107,
   "id": "ff0cbc67-7b20-4f52-b140-b59981ab2b51",
   "metadata": {},
   "outputs": [
    {
     "data": {
      "text/plain": [
       "<function matplotlib.pyplot.show(close=None, block=None)>"
      ]
     },
     "execution_count": 107,
     "metadata": {},
     "output_type": "execute_result"
    },
    {
     "data": {
      "image/png": "[encoded data removed]",
      "text/plain": [
       "<Figure size 1440x720 with 1 Axes>"
      ]
     },
     "metadata": {
      "needs_background": "light"
     },
     "output_type": "display_data"
    }
   ],
   "source": [
    "x = np.array([\"AUSTIN: Q2 Stadium (Austin FC)\", \"DALLAS: OMNI Center\", \"FW: Dickies Arena\", \"HOUSTON: Minute Maid Park\", \"SA: AT&T Center\"])\n",
    "y = np.array([1961527, 1841877, 2213047, 5200356, 3894133])\n",
    "\n",
    "totalmax_df = pd.DataFrame({\"LOCATION NAME\":x, \"TOTAL SALES\":y})\n",
    "sorted = totalmax_df.sort_values(by=[\"TOTAL SALES\"], ascending=True)\n",
    "\n",
    "plt.title(\"BUSINESSES WITH MOST SALES IN EACH CITY 2018-2022\", fontsize=30, pad=30, weight=\"bold\")\n",
    "plt.xlabel(\"SALES IN MILLIONS\",fontsize=25, weight=\"bold\")\n",
    "plt.ylabel(\"BUSINESS\",fontsize=25, weight=\"bold\")\n",
    "plt.barh(sorted[\"LOCATION NAME\"], sorted[\"TOTAL SALES\"], height = 0.8, color=\"lightgreen\")\n",
    "plt.xticks(fontsize=20)\n",
    "plt.yticks(fontsize=20, rotation=\"25\")\n",
    "\n",
    "for index, value in enumerate(sorted[\"TOTAL SALES\"]):\n",
    "    plt.text(value, index, f'${value:,}', fontsize=25, ha=\"right\", weight=\"bold\")\n",
    "    \n",
    "fig=plt.gcf()\n",
    "fig.set_size_inches(20,10)\n",
    "fig.tight_layout()\n",
    "\n",
    "plt.savefig(\"maxsalesbycitybar.png\", dpi=300)\n",
    "\n",
    "plt.show"
   ]
  },
  {
   "cell_type": "code",
   "execution_count": 108,
   "id": "627bce18-cad8-4bae-8f1f-504a7c8824bb",
   "metadata": {},
   "outputs": [],
   "source": [
    "liquormaxcity = city_group[\"Liquor Receipts\"].max()"
   ]
  },
  {
   "cell_type": "code",
   "execution_count": 109,
   "id": "a529c6f9-e465-4689-8f8a-8b22387b68a7",
   "metadata": {},
   "outputs": [],
   "source": [
    "alm = clean_df.loc[clean_df[\"Liquor Receipts\"]==1877661]\n",
    "dlm = clean_df.loc[clean_df[\"Liquor Receipts\"]==1017923]\n",
    "fwlm = clean_df.loc[clean_df[\"Liquor Receipts\"]==930662]\n",
    "hlm = clean_df.loc[clean_df[\"Liquor Receipts\"]==2548863]\n",
    "salm = clean_df.loc[clean_df[\"Liquor Receipts\"]==2204014]"
   ]
  },
  {
   "cell_type": "code",
   "execution_count": 110,
   "id": "fee1f044-98b2-4cf1-81ac-1de86d6bef26",
   "metadata": {},
   "outputs": [],
   "source": [
    "winemaxcity = city_group[\"Wine Receipts\"].max()"
   ]
  },
  {
   "cell_type": "code",
   "execution_count": 111,
   "id": "6eb289b4-e3dd-46d3-a3a9-c2359c1d019d",
   "metadata": {},
   "outputs": [
    {
     "data": {
      "text/plain": [
       "Location City\n",
       "AUSTIN         760053\n",
       "DALLAS         514072\n",
       "FORT WORTH     338193\n",
       "HOUSTON        952263\n",
       "SAN ANTONIO    484463\n",
       "Name: Wine Receipts, dtype: int64"
      ]
     },
     "execution_count": 111,
     "metadata": {},
     "output_type": "execute_result"
    }
   ],
   "source": [
    "winemaxcity"
   ]
  },
  {
   "cell_type": "code",
   "execution_count": 112,
   "id": "11c8e423-29c2-468d-a1a4-839413f1739f",
   "metadata": {},
   "outputs": [],
   "source": [
    "winesumcity = city_group[\"Wine Receipts\"].sum()"
   ]
  },
  {
   "cell_type": "code",
   "execution_count": 113,
   "id": "ad6bd26a-de25-4662-ad4b-f35e80f278da",
   "metadata": {},
   "outputs": [
    {
     "data": {
      "text/plain": [
       "Location City\n",
       "AUSTIN         495629788\n",
       "DALLAS         700271688\n",
       "FORT WORTH     156986375\n",
       "HOUSTON        909382559\n",
       "SAN ANTONIO    290920280\n",
       "Name: Wine Receipts, dtype: int64"
      ]
     },
     "execution_count": 113,
     "metadata": {},
     "output_type": "execute_result"
    }
   ],
   "source": [
    "winesumcity"
   ]
  },
  {
   "cell_type": "code",
   "execution_count": 114,
   "id": "48102a03-094e-4105-895b-064eec002d83",
   "metadata": {},
   "outputs": [
    {
     "data": {
      "image/png": "[encoded data removed]",
      "text/plain": [
       "<Figure size 720x720 with 1 Axes>"
      ]
     },
     "metadata": {},
     "output_type": "display_data"
    }
   ],
   "source": [
    "y=np.array([winesumcity])\n",
    "labels = [\"AUSTIN\", \"DALLAS\", \"FORT WORTH\", \"HOUSTON\", \"SAN ANTONIO\"]\n",
    "explode = (0.00, 0.00, 0.00, 0.04, 0.00)\n",
    "plt.pie(winesumcity, autopct=\"%1.2f%%\", labels=labels, explode=explode, shadow=True, startangle=93, textprops={'fontsize': 18})\n",
    "plt.title(\"TOTAL WINE SALES BY CITY 2018-2022\", loc=\"center\", weight=\"bold\", fontsize=\"21\")\n",
    "plt.axis(\"equal\")\n",
    "fig = plt.gcf()\n",
    "fig.set_size_inches(10,10)\n",
    "plt.savefig(\"winesalesbycity.png\")"
   ]
  },
  {
   "cell_type": "code",
   "execution_count": 115,
   "id": "dd068d43-f121-4a86-ad8c-2b2b79d0f4d4",
   "metadata": {},
   "outputs": [],
   "source": [
    "awm = clean_df.loc[clean_df[\"Wine Receipts\"]==760053]\n",
    "dwm = clean_df.loc[clean_df[\"Wine Receipts\"]==514072]\n",
    "fwwm = clean_df.loc[clean_df[\"Wine Receipts\"]==338193]\n",
    "hwm = clean_df.loc[clean_df[\"Wine Receipts\"]==952263]\n",
    "sawm = clean_df.loc[clean_df[\"Wine Receipts\"]==484463]"
   ]
  },
  {
   "cell_type": "code",
   "execution_count": 116,
   "id": "3035d00e-fb94-49e6-a30a-77ea713ea7a5",
   "metadata": {},
   "outputs": [
    {
     "data": {
      "text/html": [
       "<div>\n",
       "<style scoped>\n",
       "    .dataframe tbody tr th:only-of-type {\n",
       "        vertical-align: middle;\n",
       "    }\n",
       "\n",
       "    .dataframe tbody tr th {\n",
       "        vertical-align: top;\n",
       "    }\n",
       "\n",
       "    .dataframe thead th {\n",
       "        text-align: right;\n",
       "    }\n",
       "</style>\n",
       "<table border=\"1\" class=\"dataframe\">\n",
       "  <thead>\n",
       "    <tr style=\"text-align: right;\">\n",
       "      <th></th>\n",
       "      <th>Location Name</th>\n",
       "      <th>Location Address</th>\n",
       "      <th>Location City</th>\n",
       "      <th>Location State</th>\n",
       "      <th>Location Zip</th>\n",
       "      <th>Liquor Receipts</th>\n",
       "      <th>Wine Receipts</th>\n",
       "      <th>Beer Receipts</th>\n",
       "      <th>Total Receipts</th>\n",
       "    </tr>\n",
       "  </thead>\n",
       "  <tbody>\n",
       "    <tr>\n",
       "      <th>68079</th>\n",
       "      <td>FAIRMONT AUSTIN HOTEL</td>\n",
       "      <td>101 RED RIVER ST</td>\n",
       "      <td>AUSTIN</td>\n",
       "      <td>TX</td>\n",
       "      <td>78701</td>\n",
       "      <td>0</td>\n",
       "      <td>760053</td>\n",
       "      <td>102229</td>\n",
       "      <td>862282</td>\n",
       "    </tr>\n",
       "  </tbody>\n",
       "</table>\n",
       "</div>"
      ],
      "text/plain": [
       "               Location Name  Location Address Location City Location State  \\\n",
       "68079  FAIRMONT AUSTIN HOTEL  101 RED RIVER ST        AUSTIN             TX   \n",
       "\n",
       "       Location Zip  Liquor Receipts  Wine Receipts  Beer Receipts  \\\n",
       "68079         78701                0         760053         102229   \n",
       "\n",
       "       Total Receipts  \n",
       "68079          862282  "
      ]
     },
     "execution_count": 116,
     "metadata": {},
     "output_type": "execute_result"
    }
   ],
   "source": [
    "awm "
   ]
  },
  {
   "cell_type": "code",
   "execution_count": 117,
   "id": "2b7ddb09-ee4f-40d3-8371-9ffea5fac103",
   "metadata": {},
   "outputs": [
    {
     "data": {
      "text/html": [
       "<div>\n",
       "<style scoped>\n",
       "    .dataframe tbody tr th:only-of-type {\n",
       "        vertical-align: middle;\n",
       "    }\n",
       "\n",
       "    .dataframe tbody tr th {\n",
       "        vertical-align: top;\n",
       "    }\n",
       "\n",
       "    .dataframe thead th {\n",
       "        text-align: right;\n",
       "    }\n",
       "</style>\n",
       "<table border=\"1\" class=\"dataframe\">\n",
       "  <thead>\n",
       "    <tr style=\"text-align: right;\">\n",
       "      <th></th>\n",
       "      <th>Location Name</th>\n",
       "      <th>Location Address</th>\n",
       "      <th>Location City</th>\n",
       "      <th>Location State</th>\n",
       "      <th>Location Zip</th>\n",
       "      <th>Liquor Receipts</th>\n",
       "      <th>Wine Receipts</th>\n",
       "      <th>Beer Receipts</th>\n",
       "      <th>Total Receipts</th>\n",
       "    </tr>\n",
       "  </thead>\n",
       "  <tbody>\n",
       "    <tr>\n",
       "      <th>216780</th>\n",
       "      <td>NICK &amp; SAM'S STEAK &amp; FISH HOUSE</td>\n",
       "      <td>3008 MAPLE AVE</td>\n",
       "      <td>DALLAS</td>\n",
       "      <td>TX</td>\n",
       "      <td>75201</td>\n",
       "      <td>345821</td>\n",
       "      <td>514072</td>\n",
       "      <td>14002</td>\n",
       "      <td>873895</td>\n",
       "    </tr>\n",
       "  </tbody>\n",
       "</table>\n",
       "</div>"
      ],
      "text/plain": [
       "                          Location Name Location Address Location City  \\\n",
       "216780  NICK & SAM'S STEAK & FISH HOUSE   3008 MAPLE AVE        DALLAS   \n",
       "\n",
       "       Location State  Location Zip  Liquor Receipts  Wine Receipts  \\\n",
       "216780             TX         75201           345821         514072   \n",
       "\n",
       "        Beer Receipts  Total Receipts  \n",
       "216780          14002          873895  "
      ]
     },
     "execution_count": 117,
     "metadata": {},
     "output_type": "execute_result"
    }
   ],
   "source": [
    "dwm"
   ]
  },
  {
   "cell_type": "code",
   "execution_count": 118,
   "id": "e98203c3-eb41-4c2e-8803-5982cdc8c285",
   "metadata": {},
   "outputs": [
    {
     "data": {
      "text/html": [
       "<div>\n",
       "<style scoped>\n",
       "    .dataframe tbody tr th:only-of-type {\n",
       "        vertical-align: middle;\n",
       "    }\n",
       "\n",
       "    .dataframe tbody tr th {\n",
       "        vertical-align: top;\n",
       "    }\n",
       "\n",
       "    .dataframe thead th {\n",
       "        text-align: right;\n",
       "    }\n",
       "</style>\n",
       "<table border=\"1\" class=\"dataframe\">\n",
       "  <thead>\n",
       "    <tr style=\"text-align: right;\">\n",
       "      <th></th>\n",
       "      <th>Location Name</th>\n",
       "      <th>Location Address</th>\n",
       "      <th>Location City</th>\n",
       "      <th>Location State</th>\n",
       "      <th>Location Zip</th>\n",
       "      <th>Liquor Receipts</th>\n",
       "      <th>Wine Receipts</th>\n",
       "      <th>Beer Receipts</th>\n",
       "      <th>Total Receipts</th>\n",
       "    </tr>\n",
       "  </thead>\n",
       "  <tbody>\n",
       "    <tr>\n",
       "      <th>125176</th>\n",
       "      <td>DEL FRISCO'S DOUBLE EAGLE STEAK HOUSE</td>\n",
       "      <td>812 MAIN ST</td>\n",
       "      <td>FORT WORTH</td>\n",
       "      <td>TX</td>\n",
       "      <td>76102</td>\n",
       "      <td>172152</td>\n",
       "      <td>338193</td>\n",
       "      <td>16895</td>\n",
       "      <td>527240</td>\n",
       "    </tr>\n",
       "  </tbody>\n",
       "</table>\n",
       "</div>"
      ],
      "text/plain": [
       "                                Location Name Location Address Location City  \\\n",
       "125176  DEL FRISCO'S DOUBLE EAGLE STEAK HOUSE      812 MAIN ST    FORT WORTH   \n",
       "\n",
       "       Location State  Location Zip  Liquor Receipts  Wine Receipts  \\\n",
       "125176             TX         76102           172152         338193   \n",
       "\n",
       "        Beer Receipts  Total Receipts  \n",
       "125176          16895          527240  "
      ]
     },
     "execution_count": 118,
     "metadata": {},
     "output_type": "execute_result"
    }
   ],
   "source": [
    "fwwm"
   ]
  },
  {
   "cell_type": "code",
   "execution_count": 119,
   "id": "d89039ac-9612-41f9-af8f-03c7ebf38223",
   "metadata": {},
   "outputs": [
    {
     "data": {
      "text/html": [
       "<div>\n",
       "<style scoped>\n",
       "    .dataframe tbody tr th:only-of-type {\n",
       "        vertical-align: middle;\n",
       "    }\n",
       "\n",
       "    .dataframe tbody tr th {\n",
       "        vertical-align: top;\n",
       "    }\n",
       "\n",
       "    .dataframe thead th {\n",
       "        text-align: right;\n",
       "    }\n",
       "</style>\n",
       "<table border=\"1\" class=\"dataframe\">\n",
       "  <thead>\n",
       "    <tr style=\"text-align: right;\">\n",
       "      <th></th>\n",
       "      <th>Location Name</th>\n",
       "      <th>Location Address</th>\n",
       "      <th>Location City</th>\n",
       "      <th>Location State</th>\n",
       "      <th>Location Zip</th>\n",
       "      <th>Liquor Receipts</th>\n",
       "      <th>Wine Receipts</th>\n",
       "      <th>Beer Receipts</th>\n",
       "      <th>Total Receipts</th>\n",
       "    </tr>\n",
       "  </thead>\n",
       "  <tbody>\n",
       "    <tr>\n",
       "      <th>224473</th>\n",
       "      <td>THE POST OAK/MASTRO'S/WILLIE G'S</td>\n",
       "      <td>1600 WEST LOOP S</td>\n",
       "      <td>HOUSTON</td>\n",
       "      <td>TX</td>\n",
       "      <td>77027</td>\n",
       "      <td>476015</td>\n",
       "      <td>952263</td>\n",
       "      <td>518429</td>\n",
       "      <td>1946707</td>\n",
       "    </tr>\n",
       "  </tbody>\n",
       "</table>\n",
       "</div>"
      ],
      "text/plain": [
       "                           Location Name  Location Address Location City  \\\n",
       "224473  THE POST OAK/MASTRO'S/WILLIE G'S  1600 WEST LOOP S       HOUSTON   \n",
       "\n",
       "       Location State  Location Zip  Liquor Receipts  Wine Receipts  \\\n",
       "224473             TX         77027           476015         952263   \n",
       "\n",
       "        Beer Receipts  Total Receipts  \n",
       "224473         518429         1946707  "
      ]
     },
     "execution_count": 119,
     "metadata": {},
     "output_type": "execute_result"
    }
   ],
   "source": [
    "hwm"
   ]
  },
  {
   "cell_type": "code",
   "execution_count": 120,
   "id": "24c41096-069a-4ed5-97f7-11ce62cd83fe",
   "metadata": {},
   "outputs": [
    {
     "data": {
      "text/html": [
       "<div>\n",
       "<style scoped>\n",
       "    .dataframe tbody tr th:only-of-type {\n",
       "        vertical-align: middle;\n",
       "    }\n",
       "\n",
       "    .dataframe tbody tr th {\n",
       "        vertical-align: top;\n",
       "    }\n",
       "\n",
       "    .dataframe thead th {\n",
       "        text-align: right;\n",
       "    }\n",
       "</style>\n",
       "<table border=\"1\" class=\"dataframe\">\n",
       "  <thead>\n",
       "    <tr style=\"text-align: right;\">\n",
       "      <th></th>\n",
       "      <th>Location Name</th>\n",
       "      <th>Location Address</th>\n",
       "      <th>Location City</th>\n",
       "      <th>Location State</th>\n",
       "      <th>Location Zip</th>\n",
       "      <th>Liquor Receipts</th>\n",
       "      <th>Wine Receipts</th>\n",
       "      <th>Beer Receipts</th>\n",
       "      <th>Total Receipts</th>\n",
       "    </tr>\n",
       "  </thead>\n",
       "  <tbody>\n",
       "    <tr>\n",
       "      <th>30</th>\n",
       "      <td>HOSPITALITY INTERNATIONAL, INC.</td>\n",
       "      <td>23808 RESORT PKWY</td>\n",
       "      <td>SAN ANTONIO</td>\n",
       "      <td>TX</td>\n",
       "      <td>78261</td>\n",
       "      <td>847028</td>\n",
       "      <td>484463</td>\n",
       "      <td>307621</td>\n",
       "      <td>1639112</td>\n",
       "    </tr>\n",
       "  </tbody>\n",
       "</table>\n",
       "</div>"
      ],
      "text/plain": [
       "                      Location Name   Location Address Location City  \\\n",
       "30  HOSPITALITY INTERNATIONAL, INC.  23808 RESORT PKWY   SAN ANTONIO   \n",
       "\n",
       "   Location State  Location Zip  Liquor Receipts  Wine Receipts  \\\n",
       "30             TX         78261           847028         484463   \n",
       "\n",
       "    Beer Receipts  Total Receipts  \n",
       "30         307621         1639112  "
      ]
     },
     "execution_count": 120,
     "metadata": {},
     "output_type": "execute_result"
    }
   ],
   "source": [
    "sawm"
   ]
  },
  {
   "cell_type": "code",
   "execution_count": 121,
   "id": "0dcaa818-5023-4e13-8b7c-66edb0b61397",
   "metadata": {},
   "outputs": [
    {
     "data": {
      "image/png": "[encoded data removed]",
      "text/plain": [
       "<Figure size 1296x576 with 1 Axes>"
      ]
     },
     "metadata": {
      "needs_background": "light"
     },
     "output_type": "display_data"
    }
   ],
   "source": [
    "x = np.array([\"AUSTIN: FAIRMONT HOTEL\", \"DALLAS: NICK & SAM'S\", \"FT WORTH: DEL FRISCO\", \"HOUSTON: THE POST\",\n",
    "              \"SAN ANTONIO: HOSPITALITY INTL., INC.\"])\n",
    "y = np.array([760053, 514072, 338193, 952263, 484463])\n",
    "winesum_df = pd.DataFrame({\"BUSINESSES\":x, \"WINE SALES\":y})\n",
    "sorted = winesum_df.sort_values(by=[\"WINE SALES\"], ascending=True)\n",
    "fig, ax = plt.subplots()\n",
    "plt.title(\"TOP WINE SALES BY BUSINESS 2018-2022\",fontsize = 30, pad=30, weight=\"bold\")\n",
    "plt.xlabel(\"SALES IN THOUSANDS($)\",fontsize = 21, weight=\"bold\")\n",
    "plt.ylabel(\"BUSINESS\",fontsize = 21, weight=\"bold\")\n",
    "plt.barh(sorted.BUSINESSES, sorted[\"WINE SALES\"], height = 0.8)\n",
    "plt.yticks(fontsize = 12, rotation=\"25\")\n",
    "plt.xticks(fontsize = 12)\n",
    "fig=plt.gcf()\n",
    "fig.set_size_inches(18,8)\n",
    "for index, value in enumerate(sorted[\"WINE SALES\"]):\n",
    "    plt.text(value, index, f'${value:,}', fontsize=14, ha=\"right\", weight=\"bold\")\n",
    "plt.savefig(\"winesalesbybusiness.png\")\n",
    "plt.show()"
   ]
  },
  {
   "cell_type": "code",
   "execution_count": 122,
   "id": "292bd827-2b46-45ee-87c8-fb716ef318d2",
   "metadata": {},
   "outputs": [],
   "source": [
    "beermaxcity = city_group[\"Beer Receipts\"].max()"
   ]
  },
  {
   "cell_type": "code",
   "execution_count": 123,
   "id": "ead54f4c-50d8-44b1-b121-b3f801a9702e",
   "metadata": {},
   "outputs": [],
   "source": [
    "abm = clean_df.loc[clean_df[\"Beer Receipts\"]==1557176]\n",
    "dbm = clean_df.loc[clean_df[\"Beer Receipts\"]==684006]\n",
    "fwbm = clean_df.loc[clean_df[\"Beer Receipts\"]==1074735]\n",
    "hbm = clean_df.loc[clean_df[\"Beer Receipts\"]==2465474]\n",
    "sabm = clean_df.loc[clean_df[\"Beer Receipts\"]==2172068]"
   ]
  },
  {
   "cell_type": "code",
   "execution_count": 124,
   "id": "61e3e4a0-3b15-4efd-ba27-635726273702",
   "metadata": {},
   "outputs": [],
   "source": [
    "minpercity = totaldf[\"Total Receipts\"].min()"
   ]
  },
  {
   "cell_type": "code",
   "execution_count": 125,
   "id": "ce5438e8",
   "metadata": {},
   "outputs": [],
   "source": [
    "austintotalmin = clean_df.loc[(clean_df[\"Total Receipts\"]==5001)&(clean_df[\"Location City\"]==\"AUSTIN\")]"
   ]
  },
  {
   "cell_type": "code",
   "execution_count": 126,
   "id": "43f4d666",
   "metadata": {},
   "outputs": [],
   "source": [
    "austinbeermin = clean_df.loc[(clean_df[\"Beer Receipts\"]==5001)&(clean_df[\"Location City\"]==\"AUSTIN\")]\n",
    "austinliquormin = clean_df.loc[(clean_df[\"Liquor Receipts\"]==5001)&(clean_df[\"Location City\"]==\"AUSTIN\")]\n",
    "austinwinemin = clean_df.loc[(clean_df[\"Wine Receipts\"]==5001)&(clean_df[\"Location City\"]==\"AUSTIN\")]"
   ]
  },
  {
   "cell_type": "code",
   "execution_count": 127,
   "id": "d1697a99",
   "metadata": {},
   "outputs": [],
   "source": [
    "dallastotalmin = clean_df.loc[clean_df[\"Total Receipts\"]==5001]\n",
    "fwtotalmin = clean_df.loc[clean_df[\"Total Receipts\"]==5001]\n",
    "houstontotalmin = clean_df.loc[clean_df[\"Total Receipts\"]==5001]\n",
    "satotalmin = clean_df.loc[clean_df[\"Total Receipts\"]==5001]"
   ]
  },
  {
   "cell_type": "code",
   "execution_count": 128,
   "id": "47a7dd59-ef68-49e3-9976-88ff5c7512aa",
   "metadata": {},
   "outputs": [
    {
     "ename": "NameError",
     "evalue": "name 'weather_api_key' is not defined",
     "output_type": "error",
     "traceback": [
      "\u001b[0;31m---------------------------------------------------------------------------\u001b[0m",
      "\u001b[0;31mNameError\u001b[0m                                 Traceback (most recent call last)",
      "\u001b[0;32m/var/folders/yv/lqp4cl9n5pv59lyt_3yc0ydh0000gn/T/ipykernel_12837/404025288.py\u001b[0m in \u001b[0;36m<module>\u001b[0;34m\u001b[0m\n\u001b[1;32m      3\u001b[0m \u001b[0munits\u001b[0m \u001b[0;34m=\u001b[0m \u001b[0;34m\"Imperial\"\u001b[0m\u001b[0;34m\u001b[0m\u001b[0;34m\u001b[0m\u001b[0m\n\u001b[1;32m      4\u001b[0m params = {\n\u001b[0;32m----> 5\u001b[0;31m     \u001b[0;34m\"appid\"\u001b[0m\u001b[0;34m:\u001b[0m \u001b[0mweather_api_key\u001b[0m\u001b[0;34m,\u001b[0m\u001b[0;34m\u001b[0m\u001b[0;34m\u001b[0m\u001b[0m\n\u001b[0m\u001b[1;32m      6\u001b[0m     \u001b[0;34m\"units\"\u001b[0m\u001b[0;34m:\u001b[0m \u001b[0munits\u001b[0m\u001b[0;34m,\u001b[0m\u001b[0;34m\u001b[0m\u001b[0;34m\u001b[0m\u001b[0m\n\u001b[1;32m      7\u001b[0m }\n",
      "\u001b[0;31mNameError\u001b[0m: name 'weather_api_key' is not defined"
     ]
    }
   ],
   "source": [
    "# Setup url configuration\n",
    "url = \"http://api.openweathermap.org/data/2.5/weather?\"\n",
    "units = \"Imperial\"\n",
    "params = {\n",
    "    \"appid\": weather_api_key,\n",
    "    \"units\": units,\n",
    "}"
   ]
  },
  {
   "cell_type": "code",
   "execution_count": 129,
   "id": "dea81e85",
   "metadata": {},
   "outputs": [
    {
     "name": "stdout",
     "output_type": "stream",
     "text": [
      "Initiating Data Retrieval\n",
      "-----------------------------\n",
      "City not found. Skipping...\n",
      "City not found. Skipping...\n",
      "City not found. Skipping...\n",
      "City not found. Skipping...\n",
      "City not found. Skipping...\n",
      "-----------------------------\n",
      "Data Retrieval Complete!\n"
     ]
    }
   ],
   "source": [
    "# Create lists to hold data\n",
    "lon =  []\n",
    "lat = []\n",
    "date = []\n",
    "country = []\n",
    "city_name = []\n",
    "address = []\n",
    "\n",
    "# Print opening statement\n",
    "print(\"Initiating Data Retrieval\")\n",
    "print(\"-----------------------------\")\n",
    "\n",
    "# Set up initial values for record and set counts\n",
    "record_count = 1\n",
    "set_count = 1\n",
    "\n",
    "cities = [\"Austin\", \"Dallas\", \"Fort Worth\", \"Houston\", \"San Antonio\"]\n",
    "\n",
    "# Loop through the list of cities and request data for each\n",
    "for city in cities:\n",
    "    try:\n",
    "        params[\"q\"]= city\n",
    "        response = requests.get(url, params=params).json()\n",
    "        print(f\"Processing Record {record_count} of Set {set_count}: {city.title()}\")\n",
    "        lon.append(response[\"coord\"][\"lon\"])\n",
    "        lat.append(response[\"coord\"][\"lat\"])\n",
    "        date.append(response[\"dt\"])\n",
    "        country.append(response[\"sys\"][\"country\"])\n",
    "        city_name.append(response[\"name\"])\n",
    "    except:\n",
    "        print(\"City not found. Skipping...\")\n",
    "    \n",
    "    record_count += 1\n",
    "    if record_count == 51:\n",
    "        record_count = 1\n",
    "        set_count += 1\n",
    "    \n",
    "# Print closing\n",
    "print(\"-----------------------------\")\n",
    "print(\"Data Retrieval Complete!\")"
   ]
  },
  {
   "cell_type": "code",
   "execution_count": 130,
   "id": "4791275a",
   "metadata": {},
   "outputs": [],
   "source": [
    "# setup the dictionary\n",
    "dictionary = {\n",
    "    \"City Name\": city_name,\n",
    "    \"Country\": country,\n",
    "    \"Date\": date,\n",
    "    \"Latitude\": lat,\n",
    "    \"Longitude\": lon,\n",
    "}"
   ]
  },
  {
   "cell_type": "code",
   "execution_count": 131,
   "id": "7bf762d6",
   "metadata": {},
   "outputs": [
    {
     "data": {
      "text/html": [
       "<div>\n",
       "<style scoped>\n",
       "    .dataframe tbody tr th:only-of-type {\n",
       "        vertical-align: middle;\n",
       "    }\n",
       "\n",
       "    .dataframe tbody tr th {\n",
       "        vertical-align: top;\n",
       "    }\n",
       "\n",
       "    .dataframe thead th {\n",
       "        text-align: right;\n",
       "    }\n",
       "</style>\n",
       "<table border=\"1\" class=\"dataframe\">\n",
       "  <thead>\n",
       "    <tr style=\"text-align: right;\">\n",
       "      <th></th>\n",
       "      <th>City Name</th>\n",
       "      <th>Country</th>\n",
       "      <th>Date</th>\n",
       "      <th>Latitude</th>\n",
       "      <th>Longitude</th>\n",
       "    </tr>\n",
       "  </thead>\n",
       "  <tbody>\n",
       "  </tbody>\n",
       "</table>\n",
       "</div>"
      ],
      "text/plain": [
       "Empty DataFrame\n",
       "Columns: [City Name, Country, Date, Latitude, Longitude]\n",
       "Index: []"
      ]
     },
     "execution_count": 131,
     "metadata": {},
     "output_type": "execute_result"
    }
   ],
   "source": [
    "# create dataframe using dictionary\n",
    "wdf = pd.DataFrame(dictionary)\n",
    "\n",
    "# show head\n",
    "wdf.head()"
   ]
  },
  {
   "cell_type": "code",
   "execution_count": 132,
   "id": "1becc5a9",
   "metadata": {},
   "outputs": [],
   "source": [
    "# Store latitude and longitude in locations\n",
    "locations = wdf[[\"Latitude\", \"Longitude\"]]"
   ]
  },
  {
   "cell_type": "code",
   "execution_count": 133,
   "id": "48a0277d",
   "metadata": {},
   "outputs": [
    {
     "ename": "NameError",
     "evalue": "name 'g_key' is not defined",
     "output_type": "error",
     "traceback": [
      "\u001b[0;31m---------------------------------------------------------------------------\u001b[0m",
      "\u001b[0;31mNameError\u001b[0m                                 Traceback (most recent call last)",
      "\u001b[0;32m/var/folders/yv/lqp4cl9n5pv59lyt_3yc0ydh0000gn/T/ipykernel_12837/1698840420.py\u001b[0m in \u001b[0;36m<module>\u001b[0;34m\u001b[0m\n\u001b[0;32m----> 1\u001b[0;31m \u001b[0mgmaps\u001b[0m\u001b[0;34m.\u001b[0m\u001b[0mconfigure\u001b[0m\u001b[0;34m(\u001b[0m\u001b[0mapi_key\u001b[0m\u001b[0;34m=\u001b[0m\u001b[0mg_key\u001b[0m\u001b[0;34m)\u001b[0m\u001b[0;34m\u001b[0m\u001b[0;34m\u001b[0m\u001b[0m\n\u001b[0m",
      "\u001b[0;31mNameError\u001b[0m: name 'g_key' is not defined"
     ]
    }
   ],
   "source": [
    "gmaps.configure(api_key=g_key)"
   ]
  },
  {
   "cell_type": "code",
   "execution_count": 134,
   "id": "869622ad",
   "metadata": {},
   "outputs": [],
   "source": [
    "hotel_df = pd.DataFrame(wdf)"
   ]
  },
  {
   "cell_type": "code",
   "execution_count": 135,
   "id": "f80d3f91",
   "metadata": {},
   "outputs": [
    {
     "ename": "NameError",
     "evalue": "name 'g_key' is not defined",
     "output_type": "error",
     "traceback": [
      "\u001b[0;31m---------------------------------------------------------------------------\u001b[0m",
      "\u001b[0;31mNameError\u001b[0m                                 Traceback (most recent call last)",
      "\u001b[0;32m/var/folders/yv/lqp4cl9n5pv59lyt_3yc0ydh0000gn/T/ipykernel_12837/472024361.py\u001b[0m in \u001b[0;36m<module>\u001b[0;34m\u001b[0m\n\u001b[1;32m      3\u001b[0m      \u001b[0;34m\"radius\"\u001b[0m\u001b[0;34m:\u001b[0m \u001b[0;36m15\u001b[0m\u001b[0;34m,\u001b[0m\u001b[0;34m\u001b[0m\u001b[0;34m\u001b[0m\u001b[0m\n\u001b[1;32m      4\u001b[0m      \u001b[0;34m\"keyword\"\u001b[0m\u001b[0;34m:\u001b[0m\u001b[0;34m\"hotel\"\u001b[0m\u001b[0;34m,\u001b[0m\u001b[0;34m\u001b[0m\u001b[0;34m\u001b[0m\u001b[0m\n\u001b[0;32m----> 5\u001b[0;31m      \u001b[0;34m\"key\"\u001b[0m\u001b[0;34m:\u001b[0m \u001b[0mg_key\u001b[0m\u001b[0;34m,\u001b[0m\u001b[0;34m\u001b[0m\u001b[0;34m\u001b[0m\u001b[0m\n\u001b[0m\u001b[1;32m      6\u001b[0m }\n",
      "\u001b[0;31mNameError\u001b[0m: name 'g_key' is not defined"
     ]
    }
   ],
   "source": [
    "base_url = \"https://maps.googleapis.com/maps/api/place/nearbysearch/json\"\n",
    "params = {\"type\": \"hotel\",\n",
    "     \"radius\": 15, \n",
    "     \"keyword\":\"hotel\",\n",
    "     \"key\": g_key,\n",
    "}"
   ]
  },
  {
   "cell_type": "code",
   "execution_count": 136,
   "id": "7c063760",
   "metadata": {},
   "outputs": [
    {
     "name": "stdout",
     "output_type": "stream",
     "text": [
      "---End of Search---\n"
     ]
    }
   ],
   "source": [
    "for index, row in hotel_df.iterrows():\n",
    "\n",
    "    # get restaurant type from df\n",
    "    lat = row[\"Latitude\"]\n",
    "    long = row[\"Longitude\"]\n",
    "    city_name = row[\"City Name\"]\n",
    "\n",
    "    # add keyword to params dict\n",
    "    params[\"location\"] = f\"{lat},{long}\"\n",
    "\n",
    "    # assemble url and make API request\n",
    "    print(f\"Retrieving Closest Hotel for Index# {index}: {city_name}.\")\n",
    "    response = requests.get(base_url, params=params).json()\n",
    "    \n",
    "    # extract results\n",
    "    results = response[\"results\"]\n",
    "    \n",
    "    try:\n",
    "        print(f\"Closest hotel in {city_name} is {results[0]['name']}.\")\n",
    "        hotel_df.loc[index,\"Hotel Name\"] = results[0]['name']\n",
    "          \n",
    "    except (KeyError, IndexError):\n",
    "        print(\"No Hotel Found\")\n",
    "        \n",
    "    print(\"---------------\")\n",
    "    \n",
    "    \n",
    "print(\"---End of Search---\")"
   ]
  },
  {
   "cell_type": "code",
   "execution_count": 137,
   "id": "a4b44748",
   "metadata": {},
   "outputs": [
    {
     "data": {
      "text/html": [
       "<div>\n",
       "<style scoped>\n",
       "    .dataframe tbody tr th:only-of-type {\n",
       "        vertical-align: middle;\n",
       "    }\n",
       "\n",
       "    .dataframe tbody tr th {\n",
       "        vertical-align: top;\n",
       "    }\n",
       "\n",
       "    .dataframe thead th {\n",
       "        text-align: right;\n",
       "    }\n",
       "</style>\n",
       "<table border=\"1\" class=\"dataframe\">\n",
       "  <thead>\n",
       "    <tr style=\"text-align: right;\">\n",
       "      <th></th>\n",
       "      <th>City</th>\n",
       "      <th>Country</th>\n",
       "      <th>Date</th>\n",
       "      <th>Latitude</th>\n",
       "      <th>Longitude</th>\n",
       "    </tr>\n",
       "  </thead>\n",
       "  <tbody>\n",
       "  </tbody>\n",
       "</table>\n",
       "</div>"
      ],
      "text/plain": [
       "Empty DataFrame\n",
       "Columns: [City, Country, Date, Latitude, Longitude]\n",
       "Index: []"
      ]
     },
     "execution_count": 137,
     "metadata": {},
     "output_type": "execute_result"
    }
   ],
   "source": [
    "hotel_df.rename(columns={\"City Name\" : \"City\"}, inplace=True)\n",
    "hotel_df"
   ]
  },
  {
   "cell_type": "code",
   "execution_count": 138,
   "id": "9953d6a9",
   "metadata": {},
   "outputs": [],
   "source": [
    "# NOTE: Do not change any of the code in this cell\n",
    "\n",
    "# Using the template add the hotel marks to the heatmap\n",
    "info_box_template = \"\"\"\n",
    "<dl>\n",
    "<dt>City</dt><dd>{City}</dd>\n",
    "<dt>Country</dt><dd>{Country}</dd>\n",
    "</dl>\n",
    "\"\"\"\n",
    "# Store the DataFrame Row\n",
    "# NOTE: be sure to update with your DataFrame name\n",
    "hotel_info = [info_box_template.format(**row) for index, row in hotel_df.iterrows()]\n",
    "locations = hotel_df[[\"Latitude\", \"Longitude\"]]"
   ]
  },
  {
   "cell_type": "code",
   "execution_count": 139,
   "id": "915980df",
   "metadata": {},
   "outputs": [
    {
     "data": {
      "application/vnd.jupyter.widget-view+json": {
       "model_id": "ab0f802c5bf64810b9484ee874a75789",
       "version_major": 2,
       "version_minor": 0
      },
      "text/plain": [
       "Figure(layout=FigureLayout(height='420px'))"
      ]
     },
     "metadata": {},
     "output_type": "display_data"
    }
   ],
   "source": [
    "# Add marker layer ontop of heat map\n",
    "fig = gmaps.figure(center=(30, -95), zoom_level=6)\n",
    "markers = gmaps.marker_layer(locations,info_box_content=hotel_info)\n",
    "fig.add_layer(markers)\n",
    "\n",
    "\n",
    "# Display figure\n",
    "fig"
   ]
  },
  {
   "cell_type": "code",
   "execution_count": 140,
   "id": "e6fe6b24",
   "metadata": {},
   "outputs": [
    {
     "data": {
      "text/plain": [
       "<Figure size 432x288 with 0 Axes>"
      ]
     },
     "metadata": {},
     "output_type": "display_data"
    }
   ],
   "source": [
    "plt.savefig('plot.png')"
   ]
  },
  {
   "cell_type": "code",
   "execution_count": null,
   "id": "c460d833",
   "metadata": {},
   "outputs": [],
   "source": []
  },
  {
   "cell_type": "code",
   "execution_count": null,
   "id": "10bd2527-7d57-4b46-8187-578bca0852c6",
   "metadata": {},
   "outputs": [],
   "source": []
  }
 ],
 "metadata": {
  "kernelspec": {
   "display_name": "Python 3 (ipykernel)",
   "language": "python",
   "name": "python3"
  },
  "language_info": {
   "codemirror_mode": {
    "name": "ipython",
    "version": 3
   },
   "file_extension": ".py",
   "mimetype": "text/x-python",
   "name": "python",
   "nbconvert_exporter": "python",
   "pygments_lexer": "ipython3",
   "version": "3.9.7"
  }
 },
 "nbformat": 4,
 "nbformat_minor": 5
}
