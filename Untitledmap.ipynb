{
 "cells": [
  {
   "cell_type": "code",
   "execution_count": 1,
   "id": "c1096643-2a2c-4c68-88ab-eab31b810f5d",
   "metadata": {},
   "outputs": [],
   "source": [
    "# Dependencies and Setup\n",
    "import matplotlib.pyplot as plt\n",
    "import pandas as pd\n",
    "import numpy as np\n",
    "import requests\n",
    "import time\n",
    "from datetime import date\n",
    "import scipy.stats as st\n",
    "from scipy.stats import linregress\n",
    "# Dependencies and Setup\n",
    "import matplotlib.pyplot as plt\n",
    "import pandas as pd\n",
    "import numpy as np\n",
    "import requests\n",
    "import gmaps\n",
    "import os\n",
    "\n",
    "# Import API key\n",
    "from api_keys import g_key\n",
    "\n",
    "# Import API key\n",
    "from api_keys import weather_api_key\n",
    "\n",
    "# Incorporated citipy to determine city based on latitude and longitude\n",
    "from citipy import citipy\n",
    "\n",
    "# Range of latitudes and longitudes\n",
    "lat_range = (-90, 90)\n",
    "lng_range = (-180, 180)\n"
   ]
  },
  {
   "cell_type": "code",
   "execution_count": 2,
   "id": "37fe6b6c-a7dc-4bd1-be21-84cdfb5dab4f",
   "metadata": {},
   "outputs": [],
   "source": [
    "# Setup url configuration\n",
    "url = \"http://api.openweathermap.org/data/2.5/weather?\"\n",
    "units = \"Imperial\"\n",
    "params = {\n",
    "    \"appid\": weather_api_key,\n",
    "    \"units\": units,\n",
    "}"
   ]
  },
  {
   "cell_type": "code",
   "execution_count": 3,
   "id": "f82c227d-9d0f-42d5-bb97-78ba85f2a6f1",
   "metadata": {},
   "outputs": [
    {
     "name": "stdout",
     "output_type": "stream",
     "text": [
      "Initiating Data Retrieval\n",
      "-----------------------------\n",
      "Processing Record 1 of Set 1: Austin\n",
      "Processing Record 2 of Set 1: Dallas\n",
      "Processing Record 3 of Set 1: Fort Worth\n",
      "Processing Record 4 of Set 1: Houston\n",
      "Processing Record 5 of Set 1: San Antonio\n",
      "-----------------------------\n",
      "Data Retrieval Complete!\n"
     ]
    }
   ],
   "source": [
    "# Create lists to hold data\n",
    "lon =  []\n",
    "lat = []\n",
    "date = []\n",
    "country = []\n",
    "city_name = []\n",
    "address = []\n",
    "\n",
    "# Print opening statement\n",
    "print(\"Initiating Data Retrieval\")\n",
    "print(\"-----------------------------\")\n",
    "\n",
    "# Set up initial values for record and set counts\n",
    "record_count = 1\n",
    "set_count = 1\n",
    "\n",
    "cities = [\"Austin\", \"Dallas\", \"Fort Worth\", \"Houston\", \"San Antonio\"]\n",
    "\n",
    "# Loop through the list of cities and request data for each\n",
    "for city in cities:\n",
    "    try:\n",
    "        params[\"q\"]= city\n",
    "        response = requests.get(url, params=params).json()\n",
    "        print(f\"Processing Record {record_count} of Set {set_count}: {city.title()}\")\n",
    "        lon.append(response[\"coord\"][\"lon\"])\n",
    "        lat.append(response[\"coord\"][\"lat\"])\n",
    "        date.append(response[\"dt\"])\n",
    "        country.append(response[\"sys\"][\"country\"])\n",
    "        city_name.append(response[\"name\"])\n",
    "    except:\n",
    "        print(\"City not found. Skipping...\")\n",
    "    \n",
    "    record_count += 1\n",
    "    if record_count == 51:\n",
    "        record_count = 1\n",
    "        set_count += 1\n",
    "    \n",
    "# Print closing\n",
    "print(\"-----------------------------\")\n",
    "print(\"Data Retrieval Complete!\")"
   ]
  },
  {
   "cell_type": "code",
   "execution_count": 4,
   "id": "66ff660c",
   "metadata": {},
   "outputs": [
    {
     "data": {
      "text/plain": [
       "{'coord': {'lon': -98.4936, 'lat': 29.4241},\n",
       " 'weather': [{'id': 800,\n",
       "   'main': 'Clear',\n",
       "   'description': 'clear sky',\n",
       "   'icon': '01d'}],\n",
       " 'base': 'stations',\n",
       " 'main': {'temp': 88.57,\n",
       "  'feels_like': 88.39,\n",
       "  'temp_min': 84.54,\n",
       "  'temp_max': 91.15,\n",
       "  'pressure': 1009,\n",
       "  'humidity': 39},\n",
       " 'visibility': 10000,\n",
       " 'wind': {'speed': 12.66, 'deg': 130},\n",
       " 'clouds': {'all': 0},\n",
       " 'dt': 1652490438,\n",
       " 'sys': {'type': 2,\n",
       "  'id': 2003611,\n",
       "  'country': 'US',\n",
       "  'sunrise': 1652442176,\n",
       "  'sunset': 1652491070},\n",
       " 'timezone': -18000,\n",
       " 'id': 4726206,\n",
       " 'name': 'San Antonio',\n",
       " 'cod': 200}"
      ]
     },
     "execution_count": 4,
     "metadata": {},
     "output_type": "execute_result"
    }
   ],
   "source": [
    "response"
   ]
  },
  {
   "cell_type": "code",
   "execution_count": 5,
   "id": "f06e4ea0-9517-4df8-98a3-78c3e8533442",
   "metadata": {},
   "outputs": [],
   "source": [
    "# setup the dictionary\n",
    "dictionary = {\n",
    "    \"City Name\": city_name,\n",
    "    \"Country\": country,\n",
    "    \"Date\": date,\n",
    "    \"Latitude\": lat,\n",
    "    \"Longitude\": lon,\n",
    "}"
   ]
  },
  {
   "cell_type": "code",
   "execution_count": 6,
   "id": "5d931ca1-ccb3-4a31-9393-77bc50299a27",
   "metadata": {},
   "outputs": [
    {
     "data": {
      "text/html": [
       "<div>\n",
       "<style scoped>\n",
       "    .dataframe tbody tr th:only-of-type {\n",
       "        vertical-align: middle;\n",
       "    }\n",
       "\n",
       "    .dataframe tbody tr th {\n",
       "        vertical-align: top;\n",
       "    }\n",
       "\n",
       "    .dataframe thead th {\n",
       "        text-align: right;\n",
       "    }\n",
       "</style>\n",
       "<table border=\"1\" class=\"dataframe\">\n",
       "  <thead>\n",
       "    <tr style=\"text-align: right;\">\n",
       "      <th></th>\n",
       "      <th>City Name</th>\n",
       "      <th>Country</th>\n",
       "      <th>Date</th>\n",
       "      <th>Latitude</th>\n",
       "      <th>Longitude</th>\n",
       "    </tr>\n",
       "  </thead>\n",
       "  <tbody>\n",
       "    <tr>\n",
       "      <th>0</th>\n",
       "      <td>Austin</td>\n",
       "      <td>US</td>\n",
       "      <td>1652490209</td>\n",
       "      <td>30.2672</td>\n",
       "      <td>-97.7431</td>\n",
       "    </tr>\n",
       "    <tr>\n",
       "      <th>1</th>\n",
       "      <td>Dallas</td>\n",
       "      <td>US</td>\n",
       "      <td>1652490285</td>\n",
       "      <td>32.7668</td>\n",
       "      <td>-96.7836</td>\n",
       "    </tr>\n",
       "    <tr>\n",
       "      <th>2</th>\n",
       "      <td>Fort Worth</td>\n",
       "      <td>US</td>\n",
       "      <td>1652490440</td>\n",
       "      <td>32.7254</td>\n",
       "      <td>-97.3208</td>\n",
       "    </tr>\n",
       "    <tr>\n",
       "      <th>3</th>\n",
       "      <td>Houston</td>\n",
       "      <td>US</td>\n",
       "      <td>1652490469</td>\n",
       "      <td>29.7633</td>\n",
       "      <td>-95.3633</td>\n",
       "    </tr>\n",
       "    <tr>\n",
       "      <th>4</th>\n",
       "      <td>San Antonio</td>\n",
       "      <td>US</td>\n",
       "      <td>1652490438</td>\n",
       "      <td>29.4241</td>\n",
       "      <td>-98.4936</td>\n",
       "    </tr>\n",
       "  </tbody>\n",
       "</table>\n",
       "</div>"
      ],
      "text/plain": [
       "     City Name Country        Date  Latitude  Longitude\n",
       "0       Austin      US  1652490209   30.2672   -97.7431\n",
       "1       Dallas      US  1652490285   32.7668   -96.7836\n",
       "2   Fort Worth      US  1652490440   32.7254   -97.3208\n",
       "3      Houston      US  1652490469   29.7633   -95.3633\n",
       "4  San Antonio      US  1652490438   29.4241   -98.4936"
      ]
     },
     "execution_count": 6,
     "metadata": {},
     "output_type": "execute_result"
    }
   ],
   "source": [
    "# create dataframe using dictionary\n",
    "wdf = pd.DataFrame(dictionary)\n",
    "\n",
    "# show head\n",
    "wdf.head()"
   ]
  },
  {
   "cell_type": "code",
   "execution_count": 7,
   "id": "82c61411-0fe6-4fc5-ab4e-f20efc919b27",
   "metadata": {},
   "outputs": [],
   "source": [
    "# Store latitude and longitude in locations\n",
    "locations = wdf[[\"Latitude\", \"Longitude\"]]"
   ]
  },
  {
   "cell_type": "code",
   "execution_count": 8,
   "id": "2803a720-155e-406c-848c-a941514b5add",
   "metadata": {},
   "outputs": [],
   "source": [
    "gmaps.configure(api_key=g_key)"
   ]
  },
  {
   "cell_type": "code",
   "execution_count": 9,
   "id": "edba61ed-6316-4909-bd20-711a4b0315b0",
   "metadata": {},
   "outputs": [],
   "source": [
    "hotel_df = pd.DataFrame(wdf)"
   ]
  },
  {
   "cell_type": "code",
   "execution_count": 10,
   "id": "1df51f23-eb5b-4dfd-99e5-af2ada444edc",
   "metadata": {},
   "outputs": [],
   "source": [
    "base_url = \"https://maps.googleapis.com/maps/api/place/nearbysearch/json\"\n",
    "params = {\"type\": \"hotel\",\n",
    "     \"radius\": 15, \n",
    "     \"keyword\":\"hotel\",\n",
    "     \"key\": g_key,\n",
    "}"
   ]
  },
  {
   "cell_type": "code",
   "execution_count": 11,
   "id": "5ff591ca-afb0-4ae3-845d-56a64d639cd7",
   "metadata": {},
   "outputs": [
    {
     "name": "stdout",
     "output_type": "stream",
     "text": [
      "Retrieving Closest Hotel for Index# 0: Austin.\n",
      "Closest hotel in Austin is The Stephen F Austin Royal Sonesta Hotel.\n",
      "---------------\n",
      "Retrieving Closest Hotel for Index# 1: Dallas.\n",
      "No Hotel Found\n",
      "---------------\n",
      "Retrieving Closest Hotel for Index# 2: Fort Worth.\n",
      "No Hotel Found\n",
      "---------------\n",
      "Retrieving Closest Hotel for Index# 3: Houston.\n",
      "Closest hotel in Houston is The Lancaster Hotel.\n",
      "---------------\n",
      "Retrieving Closest Hotel for Index# 4: San Antonio.\n",
      "Closest hotel in San Antonio is Riverwalk Plaza Hotel.\n",
      "---------------\n",
      "---End of Search---\n"
     ]
    }
   ],
   "source": [
    "for index, row in hotel_df.iterrows():\n",
    "\n",
    "    # get restaurant type from df\n",
    "    lat = row[\"Latitude\"]\n",
    "    long = row[\"Longitude\"]\n",
    "    city_name = row[\"City Name\"]\n",
    "\n",
    "    # add keyword to params dict\n",
    "    params[\"location\"] = f\"{lat},{long}\"\n",
    "\n",
    "    # assemble url and make API request\n",
    "    print(f\"Retrieving Closest Hotel for Index# {index}: {city_name}.\")\n",
    "    response = requests.get(base_url, params=params).json()\n",
    "    \n",
    "    # extract results\n",
    "    results = response[\"results\"]\n",
    "    \n",
    "    try:\n",
    "        print(f\"Closest hotel in {city_name} is {results[0]['name']}.\")\n",
    "        hotel_df.loc[index,\"Hotel Name\"] = results[0]['name']\n",
    "          \n",
    "    except (KeyError, IndexError):\n",
    "        print(\"No Hotel Found\")\n",
    "        \n",
    "    print(\"---------------\")\n",
    "    \n",
    "    \n",
    "print(\"---End of Search---\")"
   ]
  },
  {
   "cell_type": "code",
   "execution_count": 12,
   "id": "24531375",
   "metadata": {},
   "outputs": [
    {
     "data": {
      "text/plain": [
       "{'html_attributions': [],\n",
       " 'results': [{'business_status': 'OPERATIONAL',\n",
       "   'geometry': {'location': {'lat': 29.4227669, 'lng': -98.49303599999999},\n",
       "    'viewport': {'northeast': {'lat': 29.42428627989272,\n",
       "      'lng': -98.49177852010727},\n",
       "     'southwest': {'lat': 29.42158662010728, 'lng': -98.49447817989272}}},\n",
       "   'icon': 'https://maps.gstatic.com/mapfiles/place_api/icons/v1/png_71/lodging-71.png',\n",
       "   'icon_background_color': '#909CE1',\n",
       "   'icon_mask_base_uri': 'https://maps.gstatic.com/mapfiles/place_api/icons/v2/hotel_pinlet',\n",
       "   'name': 'Riverwalk Plaza Hotel',\n",
       "   'opening_hours': {'open_now': True},\n",
       "   'photos': [{'height': 1923,\n",
       "     'html_attributions': ['<a href=\"https://maps.google.com/maps/contrib/109635693452035690146\">Riverwalk Plaza Hotel and Suites</a>'],\n",
       "     'photo_reference': 'Aap_uEDmf2Z0ww6a6RU98-5KGLYmluo7pZdPf-vxkZ8myvgRZiL4QEGcUcWPEbmPyTNu1ouZu-vd1z3YPooznWNti2Mfe7CUZi0gZTBZjThqdcho7ig9bmS6OudDU7vtYVhjovlEHUOrLiHbM9VlZBC4DPj0cI3-_n_E6BOtygrkTlYTtnE6',\n",
       "     'width': 2880}],\n",
       "   'place_id': 'ChIJnRWhBa1YXIYReQg4LVjL85w',\n",
       "   'plus_code': {'compound_code': 'CGF4+4Q San Antonio, Texas',\n",
       "    'global_code': '76X3CGF4+4Q'},\n",
       "   'rating': 3.9,\n",
       "   'reference': 'ChIJnRWhBa1YXIYReQg4LVjL85w',\n",
       "   'scope': 'GOOGLE',\n",
       "   'types': ['lodging', 'point_of_interest', 'establishment'],\n",
       "   'user_ratings_total': 1875,\n",
       "   'vicinity': '100 Villita St, San Antonio'},\n",
       "  {'business_status': 'OPERATIONAL',\n",
       "   'geometry': {'location': {'lat': 29.4236237, 'lng': -98.4914848},\n",
       "    'viewport': {'northeast': {'lat': 29.42507672989272,\n",
       "      'lng': -98.49023397010728},\n",
       "     'southwest': {'lat': 29.42237707010728, 'lng': -98.49293362989272}}},\n",
       "   'icon': 'https://maps.gstatic.com/mapfiles/place_api/icons/v1/png_71/lodging-71.png',\n",
       "   'icon_background_color': '#909CE1',\n",
       "   'icon_mask_base_uri': 'https://maps.gstatic.com/mapfiles/place_api/icons/v2/hotel_pinlet',\n",
       "   'name': 'Homewood Suites by Hilton San Antonio-Riverwalk/Downtown',\n",
       "   'photos': [{'height': 4032,\n",
       "     'html_attributions': ['<a href=\"https://maps.google.com/maps/contrib/102932995164667295092\">Homewood Suites by Hilton San Antonio Riverwalk Downtown</a>'],\n",
       "     'photo_reference': 'Aap_uEDsIItQMZObVJzcNCTP5ZutDDoUcCxlyOcLjEUnsnigkfyOK42nFKozcHCFmoGVKdYY0n5_vsACkNrVBr_nLKhv82BZoQeMW42ZUtEqRJfWtMib5R0uQir6InZRPOmJ6NwymReyW06fiFoaH4Em3wHQTzZzkbvS1Zh8yayYiWKUq4Ab',\n",
       "     'width': 3024}],\n",
       "   'place_id': 'ChIJBbjLwaxYXIYRbkuokPaua84',\n",
       "   'plus_code': {'compound_code': 'CGF5+CC San Antonio, Texas',\n",
       "    'global_code': '76X3CGF5+CC'},\n",
       "   'rating': 4.2,\n",
       "   'reference': 'ChIJBbjLwaxYXIYRbkuokPaua84',\n",
       "   'scope': 'GOOGLE',\n",
       "   'types': ['lodging', 'point_of_interest', 'establishment'],\n",
       "   'user_ratings_total': 980,\n",
       "   'vicinity': '432 W Market St, San Antonio'},\n",
       "  {'business_status': 'OPERATIONAL',\n",
       "   'geometry': {'location': {'lat': 29.425968, 'lng': -98.49555199999999},\n",
       "    'viewport': {'northeast': {'lat': 29.42729467989272,\n",
       "      'lng': -98.49438662010726},\n",
       "     'southwest': {'lat': 29.42459502010728, 'lng': -98.49708627989271}}},\n",
       "   'icon': 'https://maps.gstatic.com/mapfiles/place_api/icons/v1/png_71/lodging-71.png',\n",
       "   'icon_background_color': '#909CE1',\n",
       "   'icon_mask_base_uri': 'https://maps.gstatic.com/mapfiles/place_api/icons/v2/hotel_pinlet',\n",
       "   'name': 'Holiday Inn Express San Antonio N-Riverwalk Area, an IHG Hotel',\n",
       "   'photos': [{'height': 1363,\n",
       "     'html_attributions': ['<a href=\"https://maps.google.com/maps/contrib/105029536456286673190\">Holiday Inn Express San Antonio N-Riverwalk Area</a>'],\n",
       "     'photo_reference': 'Aap_uECdkfmMt3F4Q477uOMXPUE2X7rbzfVd2HixJ9IhiCzF_WyaxcvFS3dTGBvHxuBhkfQNuusWgvaDTDWXmwUd241fe82WENfNm-Cjf58buNA_ZwnuKWxujaP8TPodMbRwBHGg9AWDIXn3xigJARZmetqFqEwJjaTPw8dln3ffMyq8FkHE',\n",
       "     'width': 2048}],\n",
       "   'place_id': 'ChIJGebCWk1fXIYRg-duPiHHppE',\n",
       "   'plus_code': {'compound_code': 'CGG3+9Q San Antonio, Texas',\n",
       "    'global_code': '76X3CGG3+9Q'},\n",
       "   'rating': 3.4,\n",
       "   'reference': 'ChIJGebCWk1fXIYRg-duPiHHppE',\n",
       "   'scope': 'GOOGLE',\n",
       "   'types': ['lodging', 'point_of_interest', 'establishment'],\n",
       "   'user_ratings_total': 896,\n",
       "   'vicinity': '120 Camaron St, San Antonio'}],\n",
       " 'status': 'OK'}"
      ]
     },
     "execution_count": 12,
     "metadata": {},
     "output_type": "execute_result"
    }
   ],
   "source": [
    "response"
   ]
  },
  {
   "cell_type": "code",
   "execution_count": 13,
   "id": "42cee30d-2783-498f-b9b5-563793e4fd78",
   "metadata": {},
   "outputs": [
    {
     "data": {
      "text/html": [
       "<div>\n",
       "<style scoped>\n",
       "    .dataframe tbody tr th:only-of-type {\n",
       "        vertical-align: middle;\n",
       "    }\n",
       "\n",
       "    .dataframe tbody tr th {\n",
       "        vertical-align: top;\n",
       "    }\n",
       "\n",
       "    .dataframe thead th {\n",
       "        text-align: right;\n",
       "    }\n",
       "</style>\n",
       "<table border=\"1\" class=\"dataframe\">\n",
       "  <thead>\n",
       "    <tr style=\"text-align: right;\">\n",
       "      <th></th>\n",
       "      <th>City</th>\n",
       "      <th>Country</th>\n",
       "      <th>Date</th>\n",
       "      <th>Latitude</th>\n",
       "      <th>Longitude</th>\n",
       "      <th>Hotel Name</th>\n",
       "    </tr>\n",
       "  </thead>\n",
       "  <tbody>\n",
       "    <tr>\n",
       "      <th>0</th>\n",
       "      <td>Austin</td>\n",
       "      <td>US</td>\n",
       "      <td>1652490209</td>\n",
       "      <td>30.2672</td>\n",
       "      <td>-97.7431</td>\n",
       "      <td>The Stephen F Austin Royal Sonesta Hotel</td>\n",
       "    </tr>\n",
       "    <tr>\n",
       "      <th>1</th>\n",
       "      <td>Dallas</td>\n",
       "      <td>US</td>\n",
       "      <td>1652490285</td>\n",
       "      <td>32.7668</td>\n",
       "      <td>-96.7836</td>\n",
       "      <td>NaN</td>\n",
       "    </tr>\n",
       "    <tr>\n",
       "      <th>2</th>\n",
       "      <td>Fort Worth</td>\n",
       "      <td>US</td>\n",
       "      <td>1652490440</td>\n",
       "      <td>32.7254</td>\n",
       "      <td>-97.3208</td>\n",
       "      <td>NaN</td>\n",
       "    </tr>\n",
       "    <tr>\n",
       "      <th>3</th>\n",
       "      <td>Houston</td>\n",
       "      <td>US</td>\n",
       "      <td>1652490469</td>\n",
       "      <td>29.7633</td>\n",
       "      <td>-95.3633</td>\n",
       "      <td>The Lancaster Hotel</td>\n",
       "    </tr>\n",
       "    <tr>\n",
       "      <th>4</th>\n",
       "      <td>San Antonio</td>\n",
       "      <td>US</td>\n",
       "      <td>1652490438</td>\n",
       "      <td>29.4241</td>\n",
       "      <td>-98.4936</td>\n",
       "      <td>Riverwalk Plaza Hotel</td>\n",
       "    </tr>\n",
       "  </tbody>\n",
       "</table>\n",
       "</div>"
      ],
      "text/plain": [
       "          City Country        Date  Latitude  Longitude  \\\n",
       "0       Austin      US  1652490209   30.2672   -97.7431   \n",
       "1       Dallas      US  1652490285   32.7668   -96.7836   \n",
       "2   Fort Worth      US  1652490440   32.7254   -97.3208   \n",
       "3      Houston      US  1652490469   29.7633   -95.3633   \n",
       "4  San Antonio      US  1652490438   29.4241   -98.4936   \n",
       "\n",
       "                                 Hotel Name  \n",
       "0  The Stephen F Austin Royal Sonesta Hotel  \n",
       "1                                       NaN  \n",
       "2                                       NaN  \n",
       "3                       The Lancaster Hotel  \n",
       "4                     Riverwalk Plaza Hotel  "
      ]
     },
     "execution_count": 13,
     "metadata": {},
     "output_type": "execute_result"
    }
   ],
   "source": [
    "hotel_df.rename(columns={\"City Name\" : \"City\"}, inplace=True)\n",
    "hotel_df"
   ]
  },
  {
   "cell_type": "code",
   "execution_count": 14,
   "id": "aebeffd4-d392-49db-bba5-60bfb14d93f4",
   "metadata": {},
   "outputs": [],
   "source": [
    "# NOTE: Do not change any of the code in this cell\n",
    "\n",
    "# Using the template add the hotel marks to the heatmap\n",
    "info_box_template = \"\"\"\n",
    "<dl>\n",
    "<dt>Name</dt><dd>{Hotel Name}</dd>\n",
    "<dt>City</dt><dd>{City}</dd>\n",
    "<dt>Country</dt><dd>{Country}</dd>\n",
    "</dl>\n",
    "\"\"\"\n",
    "# Store the DataFrame Row\n",
    "# NOTE: be sure to update with your DataFrame name\n",
    "hotel_info = [info_box_template.format(**row) for index, row in hotel_df.iterrows()]\n",
    "locations = hotel_df[[\"Latitude\", \"Longitude\"]]"
   ]
  },
  {
   "cell_type": "code",
   "execution_count": 15,
   "id": "de3e3e8b-615c-4210-bd22-d5eb9f24fe1d",
   "metadata": {
    "scrolled": true
   },
   "outputs": [
    {
     "data": {
      "application/vnd.jupyter.widget-view+json": {
       "model_id": "8258799d80f3491ebd249bb783358c03",
       "version_major": 2,
       "version_minor": 0
      },
      "text/plain": [
       "Figure(layout=FigureLayout(height='420px'))"
      ]
     },
     "metadata": {},
     "output_type": "display_data"
    }
   ],
   "source": [
    "# Add marker layer ontop of heat map\n",
    "fig = gmaps.figure(center=(30, -95), zoom_level=6)\n",
    "markers = gmaps.marker_layer(locations,info_box_content=hotel_info)\n",
    "fig.add_layer(markers)\n",
    "\n",
    "\n",
    "# Display figure\n",
    "fig"
   ]
  },
  {
   "cell_type": "code",
   "execution_count": 16,
   "id": "fc74eee4-3276-4f6e-830f-0c8c6c1e8649",
   "metadata": {},
   "outputs": [
    {
     "data": {
      "text/plain": [
       "<Figure size 432x288 with 0 Axes>"
      ]
     },
     "metadata": {},
     "output_type": "display_data"
    }
   ],
   "source": [
    "plt.savefig('plot.png')"
   ]
  },
  {
   "cell_type": "code",
   "execution_count": null,
   "id": "8967b27b-d875-473b-be07-e721f2a7103b",
   "metadata": {},
   "outputs": [],
   "source": []
  }
 ],
 "metadata": {
  "kernelspec": {
   "display_name": "Python 3 (ipykernel)",
   "language": "python",
   "name": "python3"
  },
  "language_info": {
   "codemirror_mode": {
    "name": "ipython",
    "version": 3
   },
   "file_extension": ".py",
   "mimetype": "text/x-python",
   "name": "python",
   "nbconvert_exporter": "python",
   "pygments_lexer": "ipython3",
   "version": "3.9.7"
  }
 },
 "nbformat": 4,
 "nbformat_minor": 5
}
